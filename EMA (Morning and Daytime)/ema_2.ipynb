{
 "cells": [
  {
   "cell_type": "code",
   "execution_count": 1,
   "id": "62e8a406-23f6-4d5a-8ff8-b2e92e3ee1f0",
   "metadata": {
    "tags": []
   },
   "outputs": [],
   "source": [
    "import pandas as pd\n",
    "import numpy as np\n",
    "import os\n",
    "from tqdm import tqdm\n",
    "import time\n",
    "import traceback\n",
    "from datetime import datetime\n",
    "\n",
    "pd.set_option('display.max_rows', None)\n",
    "pd.set_option('display.max_columns', None)\n",
    "pd.options.mode.chained_assignment = None"
   ]
  },
  {
   "cell_type": "code",
   "execution_count": 2,
   "id": "3ee84596-fac9-4bda-bedc-e87fd399a3e0",
   "metadata": {
    "tags": []
   },
   "outputs": [],
   "source": [
    "input_directory = '/Users/sauravyadav/Documents/Repos/Datasets/BAR_EMA/output_data/prelim_data_0.csv'\n",
    "submission_info_directory = \"/Users/sauravyadav/Documents/Repos/Datasets/BAR_EMA/input_data/EMA Weekends_FINAL.csv\"\n",
    "\n",
    "missing_match_directory = \"/Users/sauravyadav/Documents/Repos/Datasets/BAR_EMA/output_data/missing_date_match.csv\"\n",
    "missing_record_directory = \"/Users/sauravyadav/Documents/Repos/Datasets/BAR_EMA/output_data/missing_record_match.csv\""
   ]
  },
  {
   "cell_type": "code",
   "execution_count": 3,
   "id": "baf075a8-2920-4ccf-9a03-e62cdee87c51",
   "metadata": {
    "tags": []
   },
   "outputs": [
    {
     "name": "stderr",
     "output_type": "stream",
     "text": [
      "/var/folders/35/8nzwnddx74qg4p54k0q2v_0r0000gn/T/ipykernel_10640/3544748107.py:1: DtypeWarning: Columns (12,13,14,18,59,61,62,63,64,65,66,67,68,69,70,71,72,73,74,75,76,77,78,79,80,81,82,83,84,85,86,87,88,89,90) have mixed types. Specify dtype option on import or set low_memory=False.\n",
      "  df = pd.read_csv(input_directory)\n"
     ]
    }
   ],
   "source": [
    "df = pd.read_csv(input_directory)"
   ]
  },
  {
   "cell_type": "markdown",
   "id": "6247b6ec-7239-404a-a5c7-fc571f84caf6",
   "metadata": {},
   "source": [
    "### TO DO\n",
    "- ~~Normalize Date Format~~\n",
    "- ~~Float to Int~~\n",
    "- ~~Create and Insert Columns (Need more input. Which date col. What dates?): \n",
    "    - ~~'Brst': 'Burst',\n",
    "    - ~~'Wknd': 'Weekend',\n",
    "    - ~~'Day': 'Day Within Weekend',\n",
    "- MR_DrnkDur column\n",
    "- MR_wake column\n",
    "- ~~Consider additional columns to add:\n",
    "    - ~~Date of Drinking Session\n",
    "    - ~~Group\n",
    "    "
   ]
  },
  {
   "cell_type": "markdown",
   "id": "47fd01b4-8baa-47d2-a291-6bf3bdf4d3aa",
   "metadata": {},
   "source": [
    "### Uniform Date Format"
   ]
  },
  {
   "cell_type": "code",
   "execution_count": 4,
   "id": "6c02711f-ac66-4b63-96ed-08ba99b10317",
   "metadata": {
    "tags": []
   },
   "outputs": [],
   "source": [
    "date_columns = [col for col in df.columns if 'date' in col.lower()]\n",
    "formats = ['%d/%m/%Y', '%Y-%d-%m %H:%M:%S']\n",
    "# Function to try parsing the date with multiple formats\n",
    "def parse_date(date_str):\n",
    "    for fmt in formats:\n",
    "        try:\n",
    "            return pd.to_datetime(date_str, format=fmt)\n",
    "        except ValueError:\n",
    "            # print(f'String: {date_str} Format failure: {fmt}')\n",
    "            pass\n",
    "    print(date_str)\n",
    "    return pd.NaT  # Return NaT (Not-a-Time) for unparseable dates\n",
    "\n",
    "# df[(df['TrigDate'].str.contains('-'))]['TrigDate'].sort_values(ascending=False)\n",
    "# df['TrigDate'].sample(5)\n",
    "\n",
    "# Apply the parse_date function to the 'DateColumn'\n",
    "for date_col in date_columns:\n",
    "    df[date_col] = df[date_col].apply(parse_date)"
   ]
  },
  {
   "cell_type": "markdown",
   "id": "a8993b89-8c6c-49f0-9488-fe94b1f9121b",
   "metadata": {
    "tags": []
   },
   "source": [
    "### Remove Decimal Points"
   ]
  },
  {
   "cell_type": "code",
   "execution_count": 5,
   "id": "cbb64d56-7f2b-4758-a2a3-72b1e2354325",
   "metadata": {
    "tags": []
   },
   "outputs": [],
   "source": [
    "int_columns = ['SubID','MR_FlSlp', 'MR_SlpQlt', 'MR_DrnkNum',\n",
    "       'MR_DrnkDur', 'MR_rlx', 'MR_hngvr', 'MR_Embrssd', 'MR_agrsv', 'MR_vom',\n",
    "       'MR_hrt', 'MR_rmbr', 'MR_work', 'MR_rude', 'MR_soc', 'MR_exprs',\n",
    "       'MR_guilt', 'MR_expctd', 'MR_mood', 'MR_mrng', 'MR_prmsd', 'MR_more',\n",
    "       'MR_fght', 'MR_enrgtc', 'MR_PsdOut', 'MR_MsdClss', 'MR_Impls',\n",
    "       'MR_sleep', 'MR_weed', 'MR_plan', 'chr', 'anoy', 'upbt', 'sad', 'irit',\n",
    "       'hap', 'bor', 'cnt', 'RP_enrgz', 'RP_excit', 'RP_sedat', 'RP_slotht',\n",
    "       'RP_slug', 'RP_up', 'RP_crntloc', 'RP_wthothr',\n",
    "       'RP_NumOth', 'RP_OthTyp', 'RP_EnjInt', 'RP_ActCld',\n",
    "       'RP_ActAcc', 'RP_OthCld', 'RP_OthAcc', 'RP_Vrtl', 'RP_AlnLke',\n",
    "       'RP_AlnGd', 'RP_WshOth', 'RP_lnly', 'RP_rjct', 'RP_incl', 'RP_acpt',\n",
    "       'RP_vrtint', 'RP_vrtoth', 'RP_vrtwho', 'RP_vrtenj', 'RP_vrtcld',\n",
    "       'RP_VrtAcc', 'RP_VrtOthCld', 'RP_VrtOthAcc', 'RP_NotInt', 'RP_WshInt',\n",
    "       'RP_lonely', 'RP_reject', 'RP_included', 'RP_accepted', 'RP_said',\n",
    "       'RP_spent', 'RP_impt', 'RP_spur', 'RP_Drnk']\n",
    "\n",
    "for col in int_columns:\n",
    "    df[col] = df[col].astype('Int64', errors='ignore')"
   ]
  },
  {
   "cell_type": "markdown",
   "id": "10d04428-5027-42ce-978d-e1f857249e50",
   "metadata": {},
   "source": [
    "### Convert Date to UTC"
   ]
  },
  {
   "cell_type": "code",
   "execution_count": 6,
   "id": "1b40ec40-3173-4a71-bb7b-cc096b06db80",
   "metadata": {
    "tags": []
   },
   "outputs": [],
   "source": [
    "df['SubDate'] = df['SubDate'].astype('datetime64[ns]')\n",
    "df['TrigDate'] = df['TrigDate'].astype('datetime64[ns]')"
   ]
  },
  {
   "cell_type": "markdown",
   "id": "da212793-b782-427c-8df9-e32c72685e81",
   "metadata": {},
   "source": [
    "### New Columns: Burst,Weekend, Day Within Weekend"
   ]
  },
  {
   "cell_type": "code",
   "execution_count": 7,
   "id": "24d4217d-aed0-4e81-afc7-1f6f309c926d",
   "metadata": {
    "tags": []
   },
   "outputs": [
    {
     "data": {
      "text/html": [
       "<div>\n",
       "<style scoped>\n",
       "    .dataframe tbody tr th:only-of-type {\n",
       "        vertical-align: middle;\n",
       "    }\n",
       "\n",
       "    .dataframe tbody tr th {\n",
       "        vertical-align: top;\n",
       "    }\n",
       "\n",
       "    .dataframe thead th {\n",
       "        text-align: right;\n",
       "    }\n",
       "</style>\n",
       "<table border=\"1\" class=\"dataframe\">\n",
       "  <thead>\n",
       "    <tr style=\"text-align: right;\">\n",
       "      <th></th>\n",
       "      <th>EMA Weekend 1</th>\n",
       "      <th>EMA Weekend 2</th>\n",
       "      <th>EMA Weekend 3</th>\n",
       "      <th>EMA Weekend 4</th>\n",
       "      <th>EMA Weekend 5</th>\n",
       "      <th>EMA Weekend 6</th>\n",
       "      <th>SubID</th>\n",
       "    </tr>\n",
       "  </thead>\n",
       "  <tbody>\n",
       "    <tr>\n",
       "      <th>213</th>\n",
       "      <td>Thurs 1/9 - Sun 1/12/2020</td>\n",
       "      <td>Thurs 1/16 - Sun 1/19/2020</td>\n",
       "      <td>Thurs 7/9  - Sun 7/12/2020</td>\n",
       "      <td>Thurs 7/16 - Sun 7/19/2020</td>\n",
       "      <td>Thurs 2/18 - Sun 2/21/21</td>\n",
       "      <td>Thurs 2/25 - Sun 2/28/21</td>\n",
       "      <td>2457</td>\n",
       "    </tr>\n",
       "  </tbody>\n",
       "</table>\n",
       "</div>"
      ],
      "text/plain": [
       "                 EMA Weekend 1               EMA Weekend 2  \\\n",
       "213  Thurs 1/9 - Sun 1/12/2020  Thurs 1/16 - Sun 1/19/2020   \n",
       "\n",
       "                  EMA Weekend 3               EMA Weekend 4  \\\n",
       "213  Thurs 7/9  - Sun 7/12/2020  Thurs 7/16 - Sun 7/19/2020   \n",
       "\n",
       "                EMA Weekend 5             EMA Weekend 6  SubID  \n",
       "213  Thurs 2/18 - Sun 2/21/21  Thurs 2/25 - Sun 2/28/21   2457  "
      ]
     },
     "execution_count": 7,
     "metadata": {},
     "output_type": "execute_result"
    }
   ],
   "source": [
    "date_info_df = pd.read_csv(submission_info_directory)\n",
    "date_info_df = date_info_df[~date_info_df['Sub ID'].isna()].reset_index(drop=True)\n",
    "date_info_df['SubID'] = date_info_df['Sub ID'].astype('Int64', errors='ignore')\n",
    "date_info_df = date_info_df.drop(columns=['Date of Drinking Session ', 'Group', 'Sub ID']).reset_index(drop=True)\n",
    "date_info_df.sample()"
   ]
  },
  {
   "cell_type": "markdown",
   "id": "c5cabc97-6d30-426b-8e7c-e9febd1d01f1",
   "metadata": {},
   "source": [
    "## Reading and cleaning the submission information data"
   ]
  },
  {
   "cell_type": "code",
   "execution_count": 8,
   "id": "3440da81-31a0-42e5-b8c3-664828004538",
   "metadata": {
    "tags": []
   },
   "outputs": [
    {
     "name": "stderr",
     "output_type": "stream",
     "text": [
      "Traceback (most recent call last):\n",
      "  File \"/var/folders/35/8nzwnddx74qg4p54k0q2v_0r0000gn/T/ipykernel_10640/4108672120.py\", line 24, in expand_date_range\n",
      "    start_date = start_date_parts[1]\n",
      "                 ~~~~~~~~~~~~~~~~^^^\n",
      "IndexError: list index out of range\n"
     ]
    },
    {
     "data": {
      "text/plain": [
       "SubID                 2207\n",
       "Weekend                  5\n",
       "Submission_Range    Oct-19\n",
       "Name: 1683, dtype: object"
      ]
     },
     "metadata": {},
     "output_type": "display_data"
    },
    {
     "name": "stdout",
     "output_type": "stream",
     "text": [
      "list index out of range\n"
     ]
    },
    {
     "name": "stderr",
     "output_type": "stream",
     "text": [
      "Traceback (most recent call last):\n",
      "  File \"/var/folders/35/8nzwnddx74qg4p54k0q2v_0r0000gn/T/ipykernel_10640/4108672120.py\", line 24, in expand_date_range\n",
      "    start_date = start_date_parts[1]\n",
      "                 ~~~~~~~~~~~~~~~~^^^\n",
      "IndexError: list index out of range\n"
     ]
    },
    {
     "data": {
      "text/plain": [
       "SubID                 2228\n",
       "Weekend                  5\n",
       "Submission_Range    Oct-19\n",
       "Name: 1688, dtype: object"
      ]
     },
     "metadata": {},
     "output_type": "display_data"
    },
    {
     "name": "stdout",
     "output_type": "stream",
     "text": [
      "list index out of range\n"
     ]
    },
    {
     "name": "stderr",
     "output_type": "stream",
     "text": [
      "Traceback (most recent call last):\n",
      "  File \"/var/folders/35/8nzwnddx74qg4p54k0q2v_0r0000gn/T/ipykernel_10640/4108672120.py\", line 24, in expand_date_range\n",
      "    start_date = start_date_parts[1]\n",
      "                 ~~~~~~~~~~~~~~~~^^^\n",
      "IndexError: list index out of range\n"
     ]
    },
    {
     "data": {
      "text/plain": [
       "SubID                 2222\n",
       "Weekend                  5\n",
       "Submission_Range    Oct-19\n",
       "Name: 1691, dtype: object"
      ]
     },
     "metadata": {},
     "output_type": "display_data"
    },
    {
     "name": "stdout",
     "output_type": "stream",
     "text": [
      "list index out of range\n"
     ]
    },
    {
     "name": "stderr",
     "output_type": "stream",
     "text": [
      "Traceback (most recent call last):\n",
      "  File \"/var/folders/35/8nzwnddx74qg4p54k0q2v_0r0000gn/T/ipykernel_10640/4108672120.py\", line 24, in expand_date_range\n",
      "    start_date = start_date_parts[1]\n",
      "                 ~~~~~~~~~~~~~~~~^^^\n",
      "IndexError: list index out of range\n"
     ]
    },
    {
     "data": {
      "text/plain": [
       "SubID                 2207\n",
       "Weekend                  6\n",
       "Submission_Range    Oct-19\n",
       "Name: 2076, dtype: object"
      ]
     },
     "metadata": {},
     "output_type": "display_data"
    },
    {
     "name": "stdout",
     "output_type": "stream",
     "text": [
      "list index out of range\n"
     ]
    },
    {
     "name": "stderr",
     "output_type": "stream",
     "text": [
      "Traceback (most recent call last):\n",
      "  File \"/var/folders/35/8nzwnddx74qg4p54k0q2v_0r0000gn/T/ipykernel_10640/4108672120.py\", line 24, in expand_date_range\n",
      "    start_date = start_date_parts[1]\n",
      "                 ~~~~~~~~~~~~~~~~^^^\n",
      "IndexError: list index out of range\n"
     ]
    },
    {
     "data": {
      "text/plain": [
       "SubID                 2228\n",
       "Weekend                  6\n",
       "Submission_Range    Oct-19\n",
       "Name: 2081, dtype: object"
      ]
     },
     "metadata": {},
     "output_type": "display_data"
    },
    {
     "name": "stdout",
     "output_type": "stream",
     "text": [
      "list index out of range\n"
     ]
    },
    {
     "name": "stderr",
     "output_type": "stream",
     "text": [
      "Traceback (most recent call last):\n",
      "  File \"/var/folders/35/8nzwnddx74qg4p54k0q2v_0r0000gn/T/ipykernel_10640/4108672120.py\", line 24, in expand_date_range\n",
      "    start_date = start_date_parts[1]\n",
      "                 ~~~~~~~~~~~~~~~~^^^\n",
      "IndexError: list index out of range\n"
     ]
    },
    {
     "data": {
      "text/plain": [
       "SubID                 2222\n",
       "Weekend                  6\n",
       "Submission_Range    Oct-19\n",
       "Name: 2084, dtype: object"
      ]
     },
     "metadata": {},
     "output_type": "display_data"
    },
    {
     "name": "stdout",
     "output_type": "stream",
     "text": [
      "list index out of range\n"
     ]
    },
    {
     "name": "stderr",
     "output_type": "stream",
     "text": [
      "/var/folders/35/8nzwnddx74qg4p54k0q2v_0r0000gn/T/ipykernel_10640/4108672120.py:75: UserWarning: Could not infer format, so each element will be parsed individually, falling back to `dateutil`. To ensure parsing is consistent and as-expected, please specify a format.\n",
      "  date_info_df['Submission_Date'] = date_info_df['Submission_Date'].astype('datetime64[ns]')\n"
     ]
    }
   ],
   "source": [
    "date_info_df = pd.melt(date_info_df, id_vars=['SubID'], var_name='Weekend', value_name='Submission_Range')\n",
    "date_info_df['Weekend'] = date_info_df['Weekend'].str.replace('EMA Weekend', '').astype(int)\n",
    "\n",
    "def expand_year(d):\n",
    "    date_parts = d.split('/')\n",
    "    if len(date_parts)==3:\n",
    "        year = date_parts[2]\n",
    "        if len(year)==2:\n",
    "            year = f'20{year}'\n",
    "            d = f'{d[:-2]}{year}'\n",
    "    return d\n",
    "    \n",
    "def expand_date_range(row):\n",
    "    \n",
    "    try:\n",
    "        if isinstance(row['Submission_Range'], datetime):\n",
    "            return []\n",
    "        date_parts = row['Submission_Range'].split('-')\n",
    "        if len(date_parts)<=1:\n",
    "            return []\n",
    "        start_date_parts = date_parts[0].strip().split(' ')\n",
    "        end_date_parts = date_parts[1].strip().split(' ')\n",
    "        \n",
    "        start_date = start_date_parts[1]\n",
    "        end_date = end_date_parts[1] if len(end_date_parts)==2 else end_date_parts[0]\n",
    "        \n",
    "        start_date = expand_year(start_date)\n",
    "        end_date = expand_year(end_date)\n",
    "            \n",
    "        if len(start_date.split('/'))==2 and len(end_date.split('/'))==2:\n",
    "            print(f'SubID: {row[\"SubID\"]} {row[\"Submission_Range\"]} Range End Date Year: {end_date} Start Year: {start_date}')\n",
    "            return []\n",
    "        elif len(start_date.split('/'))==2:\n",
    "            end_date_month, end_date_date ,end_date_year = end_date.split('/')\n",
    "            start_date_year = end_date_year \n",
    "            if end_date_month=='1' and end_date_date in['1','2','3']:\n",
    "                start_date_year = str(int(end_date_year) - 1)\n",
    "            start_date = start_date + f'/{start_date_year}'\n",
    "        \n",
    "        elif len(end_date.split('/'))==2:\n",
    "            start_date_month, start_date_date, start_date_year = start_date.split('/')\n",
    "            end_date_year = start_date_year\n",
    "            if start_date_month=='12' and start_date_date in ['29','30','31']:\n",
    "                end_date_year = str(int(start_date_year)+1)\n",
    "            \n",
    "            end_date = end_date + f'/{end_date_year}'\n",
    "        \n",
    "        try:\n",
    "            start_date = pd.to_datetime(start_date, format='%m/%d/%Y')\n",
    "            end_date = pd.to_datetime(end_date, format='%m/%d/%Y')\n",
    "        except ValueError:\n",
    "            print(f'{start_date} and {end_date}')\n",
    "            \n",
    "        # date_range = pd.date_range(start_date, end_date, freq='D')\n",
    "        date_range = pd.date_range(start_date, periods=4, freq='D')\n",
    "        res = [date.strftime('%a %m/%d/%y') for date in date_range]\n",
    "        \n",
    "        if len(res)!=4:\n",
    "            print(row)\n",
    "            print(res)\n",
    "            print(f\"!! RANGE IS {row['Submission_Range']}, DATES ARE {start_date} and {end_date}\")\n",
    "        \n",
    "        return res\n",
    "    except Exception as e:\n",
    "        traceback.print_exc()\n",
    "        display(row)\n",
    "        print(e)\n",
    "        return []\n",
    "\n",
    "date_info_df['Submission_Date'] = date_info_df.apply(expand_date_range, axis=1)\n",
    "date_info_df = date_info_df.explode('Submission_Date').reset_index(drop=True)\n",
    "date_info_df['Burst'] = np.ceil(date_info_df['Weekend'] / 2).astype(int)\n",
    "date_info_df['Day'] = pd.to_datetime(date_info_df['Submission_Date'], format='%a %m/%d/%y').dt.strftime('%a')\n",
    "date_info_df = date_info_df[~date_info_df['Submission_Date'].isna()]\n",
    "date_info_df['Submission_Date'] = date_info_df['Submission_Date'].astype('datetime64[ns]')\n",
    "# date_info_df = date_info_df.drop(columns=['Submission_Range', 'Submission_Date']).reset_index(drop=True)\n",
    "date_info_df = date_info_df.drop(columns=['Submission_Range'])"
   ]
  },
  {
   "cell_type": "code",
   "execution_count": 9,
   "id": "39ddbce7-ae58-4708-9bf8-5baa40689fbb",
   "metadata": {},
   "outputs": [
    {
     "data": {
      "text/html": [
       "<div>\n",
       "<style scoped>\n",
       "    .dataframe tbody tr th:only-of-type {\n",
       "        vertical-align: middle;\n",
       "    }\n",
       "\n",
       "    .dataframe tbody tr th {\n",
       "        vertical-align: top;\n",
       "    }\n",
       "\n",
       "    .dataframe thead th {\n",
       "        text-align: right;\n",
       "    }\n",
       "</style>\n",
       "<table border=\"1\" class=\"dataframe\">\n",
       "  <thead>\n",
       "    <tr style=\"text-align: right;\">\n",
       "      <th></th>\n",
       "      <th>SubID</th>\n",
       "      <th>Weekend</th>\n",
       "      <th>Submission_Date</th>\n",
       "      <th>Burst</th>\n",
       "      <th>Day</th>\n",
       "    </tr>\n",
       "  </thead>\n",
       "  <tbody>\n",
       "    <tr>\n",
       "      <th>0</th>\n",
       "      <td>2013</td>\n",
       "      <td>1</td>\n",
       "      <td>2018-03-15</td>\n",
       "      <td>1</td>\n",
       "      <td>Thu</td>\n",
       "    </tr>\n",
       "    <tr>\n",
       "      <th>1</th>\n",
       "      <td>2013</td>\n",
       "      <td>1</td>\n",
       "      <td>2018-03-16</td>\n",
       "      <td>1</td>\n",
       "      <td>Fri</td>\n",
       "    </tr>\n",
       "    <tr>\n",
       "      <th>2</th>\n",
       "      <td>2013</td>\n",
       "      <td>1</td>\n",
       "      <td>2018-03-17</td>\n",
       "      <td>1</td>\n",
       "      <td>Sat</td>\n",
       "    </tr>\n",
       "    <tr>\n",
       "      <th>3</th>\n",
       "      <td>2013</td>\n",
       "      <td>1</td>\n",
       "      <td>2018-03-18</td>\n",
       "      <td>1</td>\n",
       "      <td>Sun</td>\n",
       "    </tr>\n",
       "    <tr>\n",
       "      <th>4</th>\n",
       "      <td>2007</td>\n",
       "      <td>1</td>\n",
       "      <td>2018-03-15</td>\n",
       "      <td>1</td>\n",
       "      <td>Thu</td>\n",
       "    </tr>\n",
       "  </tbody>\n",
       "</table>\n",
       "</div>"
      ],
      "text/plain": [
       "   SubID  Weekend Submission_Date  Burst  Day\n",
       "0   2013        1      2018-03-15      1  Thu\n",
       "1   2013        1      2018-03-16      1  Fri\n",
       "2   2013        1      2018-03-17      1  Sat\n",
       "3   2013        1      2018-03-18      1  Sun\n",
       "4   2007        1      2018-03-15      1  Thu"
      ]
     },
     "execution_count": 9,
     "metadata": {},
     "output_type": "execute_result"
    }
   ],
   "source": [
    "date_info_df.head()"
   ]
  },
  {
   "cell_type": "markdown",
   "id": "7509f030-f29b-4afb-82e7-3e63a3a47068",
   "metadata": {},
   "source": [
    "## Merging with the main dataframe"
   ]
  },
  {
   "cell_type": "code",
   "execution_count": 10,
   "id": "96a7515d-a330-48d1-a9a9-6638e6dfe1f3",
   "metadata": {},
   "outputs": [],
   "source": [
    "# df.merge(date_info_df, left_on=['SubID','TrigDate'], right_on=['SubID', 'Submission_Date'], how = 'right').head(2)"
   ]
  },
  {
   "cell_type": "code",
   "execution_count": 11,
   "id": "fa4d1319-9c95-4069-90f0-db55e3effc8e",
   "metadata": {
    "tags": []
   },
   "outputs": [],
   "source": [
    "res_df = df.merge(date_info_df, left_on=['SubID','TrigDate'], right_on=['SubID', 'Submission_Date'], how = 'right') # SubDate\n",
    "\n",
    "res_df['TrigDate'] = res_df['TrigDate'].fillna(res_df['Submission_Date'])\n",
    "res_df['TrigTime'] = res_df['TrigTime'].fillna('05:00:00')\n",
    "\n",
    "res_df['SurvName'] = res_df['SurvName'].fillna('Morning Reports')\n",
    "res_df['RespType'] = res_df['RespType'].fillna('Missed')\n",
    "\n",
    "res_df = res_df.drop(columns=['Submission_Date'])\n",
    "res_df = res_df[['SubID', 'Burst', 'Weekend', 'Day',  'RespID', 'RespType', 'UserID', 'SurvName', 'SurvType',\n",
    "       'InitDate', 'InitTime', 'SubDate', 'SubTime', 'TrigDate', 'TrigTime',\n",
    "       'MR_wake', 'MR_rise', 'MR_bed', 'MR_FlSlp', 'MR_SlpQlt', 'MR_DrnkNum',\n",
    "       'MR_DrnkDur', 'MR_rlx', 'MR_hngvr', 'MR_Embrssd', 'MR_agrsv', 'MR_vom',\n",
    "       'MR_hrt', 'MR_rmbr', 'MR_work', 'MR_rude', 'MR_soc', 'MR_exprs',\n",
    "       'MR_guilt', 'MR_expctd', 'MR_mood', 'MR_mrng', 'MR_prmsd', 'MR_more',\n",
    "       'MR_fght', 'MR_enrgtc', 'MR_PsdOut', 'MR_MsdClss', 'MR_Impls',\n",
    "       'MR_sleep', 'MR_weed', 'MR_plan', 'chr', 'anoy', 'upbt', 'sad', 'irit',\n",
    "       'hap', 'bor', 'cnt', 'RP_enrgz', 'RP_excit', 'RP_sedat', 'RP_slotht',\n",
    "       'RP_slug', 'RP_up', 'RP_crntloc', 'RP_othrloc', 'RP_wthothr',\n",
    "       'RP_NumOth', 'RP_OthTyp', 'RP_OthWho', 'RP_EnjInt', 'RP_ActCld',\n",
    "       'RP_ActAcc', 'RP_OthCld', 'RP_OthAcc', 'RP_Vrtl', 'RP_AlnLke',\n",
    "       'RP_AlnGd', 'RP_WshOth', 'RP_lnly', 'RP_rjct', 'RP_incl', 'RP_acpt',\n",
    "       'RP_vrtint', 'RP_vrtoth', 'RP_vrtwho', 'RP_vrtenj', 'RP_vrtcld',\n",
    "       'RP_VrtAcc', 'RP_VrtOthCld', 'RP_VrtOthAcc', 'RP_NotInt', 'RP_WshInt',\n",
    "       'RP_lonely', 'RP_reject', 'RP_included', 'RP_accepted', 'RP_said',\n",
    "       'RP_spent', 'RP_impt', 'RP_spur', 'RP_Drnk']]"
   ]
  },
  {
   "cell_type": "code",
   "execution_count": 12,
   "id": "1b0fdbb9-6b2e-4b47-93ba-de887246ade8",
   "metadata": {},
   "outputs": [],
   "source": [
    "# res_df[(res_df['InitTime'].isna()) & (res_df['Day'].isin(['Mon','Wed','Tue']))][['SubID', 'TrigDate', 'Day']]\n",
    "res_df[res_df['Burst'].isna()][['SubID', 'SurvName', 'SurvType', 'RespType', 'TrigDate']].to_csv(missing_match_directory, index=False)\n",
    "res_df[res_df['TrigTime'].isna()][['SubID', 'Burst', 'Weekend', 'Day', 'TrigDate']].to_csv(missing_record_directory, index=False)"
   ]
  },
  {
   "cell_type": "code",
   "execution_count": 13,
   "id": "3bdfbf0c-1516-4e51-923b-c07ed74dea01",
   "metadata": {},
   "outputs": [
    {
     "data": {
      "text/plain": [
       "Day\n",
       "Sun    359\n",
       "Sat    104\n",
       "Thu     94\n",
       "Fri     73\n",
       "Name: count, dtype: int64"
      ]
     },
     "execution_count": 13,
     "metadata": {},
     "output_type": "execute_result"
    }
   ],
   "source": [
    "res_df[res_df['InitTime'].isna()].Day.value_counts()"
   ]
  },
  {
   "cell_type": "code",
   "execution_count": 14,
   "id": "f18c4fd3-6e58-45cb-ae88-9497a37db318",
   "metadata": {},
   "outputs": [
    {
     "name": "stdout",
     "output_type": "stream",
     "text": [
      "(30753, 99)\n"
     ]
    },
    {
     "data": {
      "text/html": [
       "<div>\n",
       "<style scoped>\n",
       "    .dataframe tbody tr th:only-of-type {\n",
       "        vertical-align: middle;\n",
       "    }\n",
       "\n",
       "    .dataframe tbody tr th {\n",
       "        vertical-align: top;\n",
       "    }\n",
       "\n",
       "    .dataframe thead th {\n",
       "        text-align: right;\n",
       "    }\n",
       "</style>\n",
       "<table border=\"1\" class=\"dataframe\">\n",
       "  <thead>\n",
       "    <tr style=\"text-align: right;\">\n",
       "      <th></th>\n",
       "      <th>SurvName</th>\n",
       "      <th>count</th>\n",
       "    </tr>\n",
       "  </thead>\n",
       "  <tbody>\n",
       "    <tr>\n",
       "      <th>0</th>\n",
       "      <td>Daytime Surveys</td>\n",
       "      <td>22593</td>\n",
       "    </tr>\n",
       "    <tr>\n",
       "      <th>1</th>\n",
       "      <td>Morning Reports</td>\n",
       "      <td>8160</td>\n",
       "    </tr>\n",
       "  </tbody>\n",
       "</table>\n",
       "</div>"
      ],
      "text/plain": [
       "          SurvName  count\n",
       "0  Daytime Surveys  22593\n",
       "1  Morning Reports   8160"
      ]
     },
     "metadata": {},
     "output_type": "display_data"
    }
   ],
   "source": [
    "# print(alt_df.shape)\n",
    "# display(alt_df.SurvName.value_counts().reset_index())\n",
    "\n",
    "print(res_df.shape)\n",
    "display(res_df.SurvName.value_counts().reset_index())\n",
    "\n",
    "# # res_df[res_df['SubID'] == 2644]\n",
    "# # res_df[res_df['SurvName']=='Morning Reports'].TrigTime.value_counts()\n",
    "# print(res_df[res_df['SurvName'].isna()].shape)\n",
    "# print(res_df[res_df['RespType'].isna()].shape)\n",
    "# print(res_df['RespType'].value_counts())"
   ]
  },
  {
   "cell_type": "code",
   "execution_count": 15,
   "id": "c6858cfd-b5c3-4f47-a64c-e81aa612f197",
   "metadata": {},
   "outputs": [],
   "source": [
    "# print(alt_df[alt_df['Submission_Date'].isna()].shape)\n",
    "# display(alt_df[alt_df['Submission_Date'].isna()].head())\n",
    "\n",
    "# print(alt_df[alt_df['SubDate'].isna()].shape)\n",
    "# display(alt_df[alt_df['SubDate'].isna()].head())\n",
    "\n",
    "# print(alt_df[(~alt_df['Submission_Date'].isna()) & (~alt_df['SubDate'].isna())].shape)\n",
    "# display(alt_df[(~alt_df['Submission_Date'].isna()) & (~alt_df['SubDate'].isna())].head())"
   ]
  },
  {
   "cell_type": "code",
   "execution_count": 16,
   "id": "e5dba532-ab4e-4801-9e34-f6e8e6d1436b",
   "metadata": {
    "tags": []
   },
   "outputs": [],
   "source": [
    "res_df = res_df.sort_values(by=['SubID','SubDate','SurvName']).reset_index(drop=True)"
   ]
  },
  {
   "cell_type": "code",
   "execution_count": 17,
   "id": "5a854149-8792-4712-8e8c-ef3e53ed82c5",
   "metadata": {
    "tags": []
   },
   "outputs": [],
   "source": [
    "res_df.to_csv('/Users/sauravyadav/Documents/Repos/Datasets/BAR_EMA/output_data/data_draft.csv', index=False)"
   ]
  },
  {
   "cell_type": "markdown",
   "id": "34707e81-2e1b-4641-9cf5-2ee84510f2a8",
   "metadata": {},
   "source": [
    "### MR_DrnkDur Column"
   ]
  },
  {
   "cell_type": "markdown",
   "id": "bc2f3c73-82bf-4b3a-9365-60e3aec2253f",
   "metadata": {},
   "source": [
    "### MR_wake"
   ]
  },
  {
   "cell_type": "markdown",
   "id": "5ad1550c-1f26-46fe-88c0-5a5ee1fb56f9",
   "metadata": {},
   "source": [
    "### See next jupyter part...."
   ]
  },
  {
   "cell_type": "code",
   "execution_count": null,
   "id": "b0b6d0f7-58d0-4164-afe2-1acd374d44ff",
   "metadata": {},
   "outputs": [],
   "source": []
  }
 ],
 "metadata": {
  "kernelspec": {
   "display_name": "Python 3 (ipykernel)",
   "language": "python",
   "name": "python3"
  },
  "language_info": {
   "codemirror_mode": {
    "name": "ipython",
    "version": 3
   },
   "file_extension": ".py",
   "mimetype": "text/x-python",
   "name": "python",
   "nbconvert_exporter": "python",
   "pygments_lexer": "ipython3",
   "version": "3.12.0"
  }
 },
 "nbformat": 4,
 "nbformat_minor": 5
}
