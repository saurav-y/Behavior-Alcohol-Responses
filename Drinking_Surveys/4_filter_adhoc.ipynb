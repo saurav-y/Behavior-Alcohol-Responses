{
 "cells": [
  {
   "cell_type": "code",
   "execution_count": 1,
   "id": "8ae23c14-c93c-4071-a1b9-2961f5f4e59b",
   "metadata": {},
   "outputs": [],
   "source": [
    "import pandas as pd\n",
    "import os"
   ]
  },
  {
   "cell_type": "code",
   "execution_count": 2,
   "id": "abe935f7-1fcd-4259-87b2-0eec8e430e30",
   "metadata": {},
   "outputs": [],
   "source": [
    "base_path = '/Users/sauravyadav/Documents/Repos/Datasets/BAR/'"
   ]
  },
  {
   "cell_type": "code",
   "execution_count": 3,
   "id": "d503780b-4a91-4f56-9e09-f0209ca2efb7",
   "metadata": {},
   "outputs": [],
   "source": [
    "for file_name in os.listdir(base_path):\n",
    "    if '.csv' not in file_name:\n",
    "        continue\n",
    "    df = pd.read_csv(base_path + file_name)\n",
    "    df = df[(df['minute']=='1-3')].reset_index(drop=True)\n",
    "    df.to_csv(f'{base_path}{file_name[:-4]}_1_3.csv', index=False)"
   ]
  },
  {
   "cell_type": "code",
   "execution_count": null,
   "id": "6f739a7a-19ff-486f-b700-01ab68ea7bad",
   "metadata": {},
   "outputs": [],
   "source": []
  }
 ],
 "metadata": {
  "kernelspec": {
   "display_name": "Python 3 (ipykernel)",
   "language": "python",
   "name": "python3"
  },
  "language_info": {
   "codemirror_mode": {
    "name": "ipython",
    "version": 3
   },
   "file_extension": ".py",
   "mimetype": "text/x-python",
   "name": "python",
   "nbconvert_exporter": "python",
   "pygments_lexer": "ipython3",
   "version": "3.12.0"
  }
 },
 "nbformat": 4,
 "nbformat_minor": 5
}
