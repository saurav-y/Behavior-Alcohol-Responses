{
 "cells": [
  {
   "cell_type": "code",
   "execution_count": 1,
   "id": "210bc373",
   "metadata": {
    "tags": []
   },
   "outputs": [],
   "source": [
    "import pandas as pd\n",
    "import os\n",
    "from tqdm import tqdm\n",
    "from multiprocessing import Pool\n",
    "import time\n",
    "import seaborn as sns\n",
    "import matplotlib.pyplot as plt\n",
    "import traceback\n",
    "\n",
    "pd.set_option('display.max_rows', None)\n",
    "pd.set_option('display.max_columns', None)\n",
    "pd.options.mode.chained_assignment = None"
   ]
  },
  {
   "cell_type": "code",
   "execution_count": 2,
   "id": "2eb5a650",
   "metadata": {
    "tags": []
   },
   "outputs": [],
   "source": [
    "input_file_directory = \"D:/Program Files/Documents/CMU/Alcohol_Research/base_columns_data\"\n",
    "tss_file_directory = \"D:/Program Files/Documents/CMU/Alcohol_Research/binned_tss_data\"\n",
    "\n",
    "minute_binned_data_directory = \"D:/Program Files/Documents/CMU/Alcohol_Research/Binned_By_Minute_all_variables\"\n",
    "custom_binned_data_directory = \"D:/Program Files/Documents/CMU/Alcohol_Research/Custom Bin_all_variables\"\n",
    "\n",
    "group_minute_binned_data_directory = \"D:/Program Files/Documents/CMU/Alcohol_Research/Binned By Minute_Only Group Variables\"\n",
    "# group_custom_binned_data_directory = \"D:/Program Files/Documents/CMU/Alcohol_Research/Custom Bin_Only Group Variables\"\n",
    "\n"
   ]
  },
  {
   "cell_type": "code",
   "execution_count": 3,
   "id": "bf974fe2",
   "metadata": {
    "tags": []
   },
   "outputs": [],
   "source": [
    "def bin_on_columns(df, bin_sizes: list, columns: list = None):\n",
    "\n",
    "    # Create an empty list to store the DataFrames for each bin\n",
    "    result_dfs = []\n",
    "\n",
    "    # Loop through each bin and calculate the sum for each column\n",
    "    for bin_num, bin_size in enumerate(bin_sizes):\n",
    "        start_index = bin_num * bin_size\n",
    "        end_index = (bin_num + 1) * bin_size\n",
    "        bin_df = df.iloc[start_index:end_index]\n",
    "        bin_sum = bin_df.sum()\n",
    "        bin_sum['Frame'] = f\"{bin_num * bin_size + 1}-{min((bin_num + 1) * bin_size, len(df))}\"\n",
    "        result_dfs.append(bin_sum)\n",
    "\n",
    "    # Concatenate all the DataFrames in the result_dfs list into a single DataFrame\n",
    "    result_df = pd.concat(result_dfs, axis=1).T\n",
    "\n",
    "    # Set the 'Frame' column as the index of the result DataFrame\n",
    "    result_df.set_index('Frame', inplace=True)\n",
    "    result_df = result_df.reset_index(drop=True)\n",
    "    \n",
    "    return result_df"
   ]
  },
  {
   "cell_type": "code",
   "execution_count": 4,
   "id": "3cb7b6de",
   "metadata": {
    "tags": []
   },
   "outputs": [],
   "source": [
    "single_bin_columns = ['AU6', 'AU9', 'AU12', 'AU14', 'AU15', 'AU20', 'Speak', 'Sip', 'Laugh',\n",
    "                      'DuchSmile_bin', 'SmileCon1_bin', 'SmileCon2_bin', 'SmileCon3_bin', \n",
    "                      'SmileCon_bin_any', 'NegAff_bin_any', 'Silence']\n",
    "\n",
    "dyad_bin_columns = ['DyadSpeaking', 'DyadLaughing']\n",
    "\n",
    "triad_bin_columns = ['GoldenMoment', 'TriadSpeaking', 'TriadLaughing']"
   ]
  },
  {
   "cell_type": "code",
   "execution_count": 11,
   "id": "df87b671",
   "metadata": {
    "tags": []
   },
   "outputs": [],
   "source": [
    "def get_minute_and_custom_binned_data(df, gc_col = 'Sub_ID'):\n",
    "    cp1 = df[df['minute']<=3].reset_index(drop=True).groupby(gc_col).sum().reset_index()\n",
    "    cp1['minute'] = '1-3'    \n",
    "    cp = pd.concat([cp1, df]).reset_index(drop=True)\n",
    "    return cp\n",
    "    \n",
    "def get_custom_binned_data(df, gc_col = 'Sub_ID'):\n",
    "    \n",
    "    cp1 = df[df['minute']<=3].reset_index(drop=True).groupby(gc_col).sum().reset_index()\n",
    "    cp1['minute'] = '1-3'\n",
    "    cp2 = df[df['minute']>3].reset_index(drop=True)\n",
    "    cp = pd.concat([cp1,cp2]).reset_index(drop=True)\n",
    "    \n",
    "    return cp\n",
    "    "
   ]
  },
  {
   "cell_type": "code",
   "execution_count": 6,
   "id": "c20606ab",
   "metadata": {
    "tags": []
   },
   "outputs": [
    {
     "name": "stderr",
     "output_type": "stream",
     "text": [
      "100%|██████████| 129/129 [00:00<00:00, 406.13it/s]\n"
     ]
    }
   ],
   "source": [
    "for filename in tqdm(os.listdir(input_file_directory)):\n",
    "    if '.csv' not in filename:\n",
    "        continue\n",
    "    \n",
    "    file_path = input_file_directory +'/'+ filename\n",
    "    group = filename.split('_')[0]\n",
    "    df = pd.read_csv(file_path)\n",
    "        \n",
    "    try:\n",
    "        tss_df = pd.read_csv(f'{tss_file_directory}/{filename}')\n",
    "        tss_df = tss_df.rename(columns={'Minute':'minute'})\n",
    "    \n",
    "        single_df = df[['Sub_ID', 'minute'] + single_bin_columns]\n",
    "        single_df = single_df.groupby(['Sub_ID', 'minute']).sum().reset_index()\n",
    "        single_df = single_df.sort_values(by=['minute', 'Sub_ID']).reset_index(drop=True)\n",
    "        single_df[single_bin_columns] = (single_df[single_bin_columns] / 30).round(3)\n",
    "\n",
    "        bi_tri_df = df[['Frame', 'minute'] + dyad_bin_columns + triad_bin_columns]\n",
    "        bi_tri_df = bi_tri_df.groupby(['Frame', 'minute']).max().reset_index().groupby('minute').sum().reset_index()\n",
    "        bi_tri_df = bi_tri_df.drop(columns=['Frame'])\n",
    "        bi_tri_df[dyad_bin_columns + triad_bin_columns] = (bi_tri_df[dyad_bin_columns + triad_bin_columns]/30).round(3)\n",
    "        bi_tri_df = bi_tri_df.merge(tss_df, on=['minute']).reset_index(drop=True)\n",
    "        bi_tri_df.to_csv(f'{group_minute_binned_data_directory}/{filename}', index=False)\n",
    "\n",
    "\n",
    "        all_df = single_df.merge(bi_tri_df, on=['minute']).reset_index(drop=True)\n",
    "        all_df.to_csv(f'{minute_binned_data_directory}/{filename}', index=False)\n",
    "        cp_all = get_custom_binned_data(all_df)\n",
    "        cp_all.to_csv(f'{custom_binned_data_directory}/{filename}', index=False)\n",
    "    except Exception as e:\n",
    "        print(e)\n",
    "        print(f'Skipping file: {filename}')\n",
    "        traceback.print_exc()\n",
    "        \n",
    "    "
   ]
  },
  {
   "cell_type": "code",
   "execution_count": 6,
   "id": "a8569215",
   "metadata": {
    "tags": []
   },
   "outputs": [
    {
     "name": "stderr",
     "output_type": "stream",
     "text": [
      "100%|██████████| 129/129 [00:01<00:00, 78.07it/s]\n"
     ]
    }
   ],
   "source": [
    "df_list = []\n",
    "for filename in tqdm(os.listdir(minute_binned_data_directory)):\n",
    "    if '.csv' not in filename:\n",
    "        continue\n",
    "    file_path = minute_binned_data_directory +'/'+ filename\n",
    "    group = filename.split('_')[0]\n",
    "    df = pd.read_csv(file_path)\n",
    "    df['Group'] = group\n",
    "    df_list.append(df)"
   ]
  },
  {
   "cell_type": "code",
   "execution_count": 9,
   "id": "7c1493a8",
   "metadata": {
    "tags": []
   },
   "outputs": [],
   "source": [
    "mega_df = pd.concat(df_list).reset_index(drop=True)\n",
    "cols = ['Group'] + [col for col in df.columns if col != 'Group']\n",
    "mega_df = mega_df[cols]\n",
    "mega_df['Group'] = mega_df['Group'].astype(int)\n",
    "mega_df = mega_df.sort_values(by=['Group', 'minute', 'Sub_ID'])\n",
    "mega_df.to_csv('D:/Program Files/Documents/CMU/Alcohol_Research/combined.csv',index=False)"
   ]
  },
  {
   "cell_type": "markdown",
   "id": "8420cfc4-0f1d-4439-9816-62c8a277bb63",
   "metadata": {},
   "source": [
    "### All Groups Different Variable Sets, Minute Binned"
   ]
  },
  {
   "cell_type": "code",
   "execution_count": 10,
   "id": "1a0142b1-9b10-479a-bd56-af6e671ad0f7",
   "metadata": {
    "tags": []
   },
   "outputs": [],
   "source": [
    "mega_df.to_csv('D:/Program Files/Documents/CMU/Alcohol_Research/all_groups_all_variables_minute_binned.csv',index=False)\n",
    "mega_df[['Group','Sub_ID', 'minute'] + single_bin_columns].reset_index(drop=True).to_csv('D:/Program Files/Documents/CMU/Alcohol_Research/all_groups_individual_variables_minute_binned.csv',index=False)\n",
    "mega_df[['Group', 'minute'] + dyad_bin_columns + triad_bin_columns].drop_duplicates().reset_index(drop=True).to_csv('D:/Program Files/Documents/CMU/Alcohol_Research/all_groups_group_variables_minute_binned.csv',index=False)"
   ]
  },
  {
   "cell_type": "code",
   "execution_count": 13,
   "id": "f16069d5",
   "metadata": {
    "tags": []
   },
   "outputs": [],
   "source": [
    "def custom_sort_category(minute_str):\n",
    "    if minute_str == '1-3':\n",
    "        return 1\n",
    "    else:\n",
    "        return 2\n"
   ]
  },
  {
   "cell_type": "markdown",
   "id": "9d73c3e2-a47c-47e2-97cc-c22a210c5595",
   "metadata": {},
   "source": [
    "### All Groups Different Variable Sets, Minute Binned + Custom Binned"
   ]
  },
  {
   "cell_type": "code",
   "execution_count": 21,
   "id": "c3193469-7103-4ed2-885c-44fe70ef9da4",
   "metadata": {
    "tags": []
   },
   "outputs": [],
   "source": [
    "temp_df = get_minute_and_custom_binned_data(mega_df.drop(columns=['Group']))\n",
    "temp_df = mega_df[['Sub_ID','Group']].drop_duplicates().merge(temp_df, on='Sub_ID')\n",
    "temp_df['sort_category'] = temp_df['minute'].apply(custom_sort_category)\n",
    "temp_df = temp_df.sort_values(by=['Group','sort_category','minute','Sub_ID']).reset_index(drop=True)\n",
    "temp_df = temp_df.drop('sort_category', axis=1)\n",
    "temp_df = temp_df.round(3)\n",
    "temp_df.to_csv('D:/Program Files/Documents/CMU/Alcohol_Research/all_groups_all_variables_minute_and_custom_binned.csv',index=False)\n",
    "temp_df[['Group','Sub_ID', 'minute'] + single_bin_columns].reset_index(drop=True).to_csv('D:/Program Files/Documents/CMU/Alcohol_Research/all_groups_individual_variables_minute_and_custom_binned.csv',index=False)\n",
    "temp_df[['Group', 'minute'] + dyad_bin_columns + triad_bin_columns].drop_duplicates().reset_index(drop=True).to_csv('D:/Program Files/Documents/CMU/Alcohol_Research/all_groups_group_variables_minute_and_custom_binned.csv',index=False)"
   ]
  },
  {
   "cell_type": "markdown",
   "id": "a61ed0e5-ed7f-4547-801b-5b09b8019695",
   "metadata": {},
   "source": [
    "### All Groups Different Variable Sets, Custom Binned"
   ]
  },
  {
   "cell_type": "code",
   "execution_count": 10,
   "id": "cbdece02",
   "metadata": {
    "tags": []
   },
   "outputs": [],
   "source": [
    "test_df = get_custom_binned_data(mega_df.drop(columns=['Group']))\n",
    "test_df = mega_df[['Sub_ID','Group']].drop_duplicates().merge(test_df, on='Sub_ID')\n",
    "test_df['sort_category'] = test_df['minute'].apply(custom_sort_category)\n",
    "test_df = test_df.sort_values(by=['Group','sort_category','minute','Sub_ID']).reset_index(drop=True)\n",
    "test_df = test_df.drop('sort_category', axis=1)\n",
    "test_df = test_df.round(3)\n",
    "test_df.to_csv('D:/Program Files/Documents/CMU/Alcohol_Research/all_groups_all_variables_custom_binned.csv',index=False)"
   ]
  },
  {
   "cell_type": "code",
   "execution_count": 11,
   "id": "fd13587e",
   "metadata": {
    "tags": []
   },
   "outputs": [],
   "source": [
    "custom_binned_individual_variables_df = test_df[['Group','Sub_ID', 'minute'] + single_bin_columns].reset_index(drop=True)\n",
    "custom_binned_individual_variables_df.to_csv('D:/Program Files/Documents/CMU/Alcohol_Research/all_groups_individual_variables_custom_binned.csv',index=False)"
   ]
  },
  {
   "cell_type": "code",
   "execution_count": 12,
   "id": "3f9e9f47",
   "metadata": {
    "tags": []
   },
   "outputs": [],
   "source": [
    "custom_binned_group_variables_df = test_df[['Group', 'minute'] + dyad_bin_columns + triad_bin_columns].drop_duplicates().reset_index(drop=True)\n",
    "custom_binned_group_variables_df.to_csv('D:/Program Files/Documents/CMU/Alcohol_Research/all_groups_group_variables_custom_binned.csv',index=False)"
   ]
  },
  {
   "cell_type": "code",
   "execution_count": null,
   "id": "59357370",
   "metadata": {},
   "outputs": [],
   "source": []
  }
 ],
 "metadata": {
  "kernelspec": {
   "display_name": "Python 3 (ipykernel)",
   "language": "python",
   "name": "python3"
  },
  "language_info": {
   "codemirror_mode": {
    "name": "ipython",
    "version": 3
   },
   "file_extension": ".py",
   "mimetype": "text/x-python",
   "name": "python",
   "nbconvert_exporter": "python",
   "pygments_lexer": "ipython3",
   "version": "3.11.3"
  }
 },
 "nbformat": 4,
 "nbformat_minor": 5
}
