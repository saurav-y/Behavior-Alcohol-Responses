{
 "cells": [
  {
   "cell_type": "code",
   "execution_count": 1,
   "id": "62e8a406-23f6-4d5a-8ff8-b2e92e3ee1f0",
   "metadata": {
    "tags": []
   },
   "outputs": [],
   "source": [
    "import pandas as pd\n",
    "import numpy as np\n",
    "import os\n",
    "from tqdm import tqdm\n",
    "import time\n",
    "import traceback\n",
    "from datetime import datetime\n",
    "\n",
    "pd.set_option('display.max_rows', None)\n",
    "pd.set_option('display.max_columns', None)\n",
    "pd.options.mode.chained_assignment = None"
   ]
  },
  {
   "cell_type": "code",
   "execution_count": 2,
   "id": "3ee84596-fac9-4bda-bedc-e87fd399a3e0",
   "metadata": {
    "tags": []
   },
   "outputs": [],
   "source": [
    "input_directory = 'D:\\Program Files\\Documents\\CMU\\BAR_EMA\\output_data\\prelim_data_0.csv'\n",
    "submission_info_directory = \"D:\\Program Files\\Documents\\CMU\\BAR_EMA\\input_data\\EMA Weekends_FINAL.xlsx\""
   ]
  },
  {
   "cell_type": "code",
   "execution_count": 3,
   "id": "baf075a8-2920-4ccf-9a03-e62cdee87c51",
   "metadata": {
    "tags": []
   },
   "outputs": [
    {
     "name": "stderr",
     "output_type": "stream",
     "text": [
      "C:\\Users\\Saurav\\AppData\\Local\\Temp\\ipykernel_16216\\3544748107.py:1: DtypeWarning: Columns (12,13,14,18,59,61,62,63,64,65,66,67,68,69,70,71,72,73,74,75,76,77,78,79,80,81,82,83,84,85,86,87,88,89,90) have mixed types. Specify dtype option on import or set low_memory=False.\n",
      "  df = pd.read_csv(input_directory)\n"
     ]
    }
   ],
   "source": [
    "df = pd.read_csv(input_directory)"
   ]
  },
  {
   "cell_type": "markdown",
   "id": "6247b6ec-7239-404a-a5c7-fc571f84caf6",
   "metadata": {},
   "source": [
    "### TO DO\n",
    "- ~~Normalize Date Format~~\n",
    "- ~~Float to Int~~\n",
    "- ~~Create and Insert Columns (Need more input. Which date col. What dates?): \n",
    "    - ~~'Brst': 'Burst',\n",
    "    - ~~'Wknd': 'Weekend',\n",
    "    - ~~'Day': 'Day Within Weekend',\n",
    "- MR_DrnkDur column\n",
    "- MR_wake column\n",
    "- ~~Consider additional columns to add:\n",
    "    - ~~Date of Drinking Session\n",
    "    - ~~Group\n",
    "    "
   ]
  },
  {
   "cell_type": "markdown",
   "id": "47fd01b4-8baa-47d2-a291-6bf3bdf4d3aa",
   "metadata": {},
   "source": [
    "### Uniform Date Format"
   ]
  },
  {
   "cell_type": "code",
   "execution_count": 4,
   "id": "6c02711f-ac66-4b63-96ed-08ba99b10317",
   "metadata": {
    "tags": []
   },
   "outputs": [],
   "source": [
    "date_columns = [col for col in df.columns if 'date' in col.lower()]\n",
    "formats = ['%d/%m/%Y', '%Y-%d-%m %H:%M:%S']\n",
    "# Function to try parsing the date with multiple formats\n",
    "def parse_date(date_str):\n",
    "    for fmt in formats:\n",
    "        try:\n",
    "            return pd.to_datetime(date_str, format=fmt)\n",
    "        except ValueError:\n",
    "            # print(f'String: {date_str} Format failure: {fmt}')\n",
    "            pass\n",
    "    print(date_str)\n",
    "    return pd.NaT  # Return NaT (Not-a-Time) for unparseable dates\n",
    "\n",
    "# df[(df['TrigDate'].str.contains('-'))]['TrigDate'].sort_values(ascending=False)\n",
    "# df['TrigDate'].sample(5)\n",
    "\n",
    "# Apply the parse_date function to the 'DateColumn'\n",
    "for date_col in date_columns:\n",
    "    df[date_col] = df[date_col].apply(parse_date)"
   ]
  },
  {
   "cell_type": "markdown",
   "id": "a8993b89-8c6c-49f0-9488-fe94b1f9121b",
   "metadata": {
    "tags": []
   },
   "source": [
    "### Remove Decimal Points"
   ]
  },
  {
   "cell_type": "code",
   "execution_count": 5,
   "id": "cbb64d56-7f2b-4758-a2a3-72b1e2354325",
   "metadata": {
    "tags": []
   },
   "outputs": [],
   "source": [
    "int_columns = ['SubID','MR_FlSlp', 'MR_SlpQlt', 'MR_DrnkNum',\n",
    "       'MR_DrnkDur', 'MR_rlx', 'MR_hngvr', 'MR_Embrssd', 'MR_agrsv', 'MR_vom',\n",
    "       'MR_hrt', 'MR_rmbr', 'MR_work', 'MR_rude', 'MR_soc', 'MR_exprs',\n",
    "       'MR_guilt', 'MR_expctd', 'MR_mood', 'MR_mrng', 'MR_prmsd', 'MR_more',\n",
    "       'MR_fght', 'MR_enrgtc', 'MR_PsdOut', 'MR_MsdClss', 'MR_Impls',\n",
    "       'MR_sleep', 'MR_weed', 'MR_plan', 'chr', 'anoy', 'upbt', 'sad', 'irit',\n",
    "       'hap', 'bor', 'cnt', 'RP_enrgz', 'RP_excit', 'RP_sedat', 'RP_slotht',\n",
    "       'RP_slug', 'RP_up', 'RP_crntloc', 'RP_wthothr',\n",
    "       'RP_NumOth', 'RP_OthTyp', 'RP_EnjInt', 'RP_ActCld',\n",
    "       'RP_ActAcc', 'RP_OthCld', 'RP_OthAcc', 'RP_Vrtl', 'RP_AlnLke',\n",
    "       'RP_AlnGd', 'RP_WshOth', 'RP_lnly', 'RP_rjct', 'RP_incl', 'RP_acpt',\n",
    "       'RP_vrtint', 'RP_vrtoth', 'RP_vrtwho', 'RP_vrtenj', 'RP_vrtcld',\n",
    "       'RP_VrtAcc', 'RP_VrtOthCld', 'RP_VrtOthAcc', 'RP_NotInt', 'RP_WshInt',\n",
    "       'RP_lonely', 'RP_reject', 'RP_included', 'RP_accepted', 'RP_said',\n",
    "       'RP_spent', 'RP_impt', 'RP_spur', 'RP_Drnk']\n",
    "\n",
    "for col in int_columns:\n",
    "    df[col] = df[col].astype('Int64', errors='ignore')"
   ]
  },
  {
   "cell_type": "markdown",
   "id": "10d04428-5027-42ce-978d-e1f857249e50",
   "metadata": {},
   "source": [
    "### Convert Date to UTC"
   ]
  },
  {
   "cell_type": "code",
   "execution_count": 6,
   "id": "1b40ec40-3173-4a71-bb7b-cc096b06db80",
   "metadata": {
    "tags": []
   },
   "outputs": [],
   "source": [
    "df['SubDate'] = df['SubDate'].astype('datetime64[ns]')"
   ]
  },
  {
   "cell_type": "markdown",
   "id": "da212793-b782-427c-8df9-e32c72685e81",
   "metadata": {},
   "source": [
    "### New Columns: Burst,Weekend, Day Within Weekend"
   ]
  },
  {
   "cell_type": "code",
   "execution_count": 7,
   "id": "24d4217d-aed0-4e81-afc7-1f6f309c926d",
   "metadata": {
    "tags": []
   },
   "outputs": [
    {
     "data": {
      "text/html": [
       "<div>\n",
       "<style scoped>\n",
       "    .dataframe tbody tr th:only-of-type {\n",
       "        vertical-align: middle;\n",
       "    }\n",
       "\n",
       "    .dataframe tbody tr th {\n",
       "        vertical-align: top;\n",
       "    }\n",
       "\n",
       "    .dataframe thead th {\n",
       "        text-align: right;\n",
       "    }\n",
       "</style>\n",
       "<table border=\"1\" class=\"dataframe\">\n",
       "  <thead>\n",
       "    <tr style=\"text-align: right;\">\n",
       "      <th></th>\n",
       "      <th>EMA Weekend 1</th>\n",
       "      <th>EMA Weekend 2</th>\n",
       "      <th>EMA Weekend 3</th>\n",
       "      <th>EMA Weekend 4</th>\n",
       "      <th>EMA Weekend 5</th>\n",
       "      <th>EMA Weekend 6</th>\n",
       "      <th>SubID</th>\n",
       "    </tr>\n",
       "  </thead>\n",
       "  <tbody>\n",
       "    <tr>\n",
       "      <th>169</th>\n",
       "      <td>Thurs 5/16/2019-Sun 5/19/2019</td>\n",
       "      <td>Thurs 5/23/2019-Sun 5/26/2019</td>\n",
       "      <td>Thurs 11/14/19 - Sun 11/17/19</td>\n",
       "      <td>Thurs 11/21/19 - Sun 11/24/19</td>\n",
       "      <td>Thurs 5/14/20  - Sun 5/17/20</td>\n",
       "      <td>Thurs 5/21/20  - Sun 5/24/20</td>\n",
       "      <td>2349</td>\n",
       "    </tr>\n",
       "  </tbody>\n",
       "</table>\n",
       "</div>"
      ],
      "text/plain": [
       "                     EMA Weekend 1                  EMA Weekend 2  \\\n",
       "169  Thurs 5/16/2019-Sun 5/19/2019  Thurs 5/23/2019-Sun 5/26/2019   \n",
       "\n",
       "                     EMA Weekend 3                  EMA Weekend 4  \\\n",
       "169  Thurs 11/14/19 - Sun 11/17/19  Thurs 11/21/19 - Sun 11/24/19   \n",
       "\n",
       "                     EMA Weekend 5                  EMA Weekend 6  SubID  \n",
       "169  Thurs 5/14/20  - Sun 5/17/20   Thurs 5/21/20  - Sun 5/24/20    2349  "
      ]
     },
     "execution_count": 7,
     "metadata": {},
     "output_type": "execute_result"
    }
   ],
   "source": [
    "date_info_df = pd.read_excel(submission_info_directory, engine='openpyxl')\n",
    "date_info_df = date_info_df[~date_info_df['Sub ID'].isna()].reset_index(drop=True)\n",
    "date_info_df['SubID'] = date_info_df['Sub ID'].astype('Int64', errors='ignore')\n",
    "date_info_df = date_info_df.drop(columns=['Date of Drinking Session ', 'Group', 'Sub ID']).reset_index(drop=True)\n",
    "date_info_df.sample()"
   ]
  },
  {
   "cell_type": "code",
   "execution_count": 8,
   "id": "3440da81-31a0-42e5-b8c3-664828004538",
   "metadata": {
    "tags": []
   },
   "outputs": [
    {
     "name": "stderr",
     "output_type": "stream",
     "text": [
      "C:\\Users\\Saurav\\AppData\\Local\\Temp\\ipykernel_16216\\2367939162.py:75: UserWarning: Could not infer format, so each element will be parsed individually, falling back to `dateutil`. To ensure parsing is consistent and as-expected, please specify a format.\n",
      "  date_info_df['Submission_Date'] = date_info_df['Submission_Date'].astype('datetime64[ns]')\n"
     ]
    }
   ],
   "source": [
    "date_info_df = pd.melt(date_info_df, id_vars=['SubID'], var_name='Weekend', value_name='Submission_Range')\n",
    "date_info_df['Weekend'] = date_info_df['Weekend'].str.replace('EMA Weekend', '').astype(int)\n",
    "\n",
    "def expand_year(d):\n",
    "    date_parts = d.split('/')\n",
    "    if len(date_parts)==3:\n",
    "        year = date_parts[2]\n",
    "        if len(year)==2:\n",
    "            year = f'20{year}'\n",
    "            d = f'{d[:-2]}{year}'\n",
    "    return d\n",
    "    \n",
    "def expand_date_range(row):\n",
    "    \n",
    "    try:\n",
    "        if isinstance(row['Submission_Range'], datetime):\n",
    "            return []\n",
    "        date_parts = row['Submission_Range'].split('-')\n",
    "        if len(date_parts)<=1:\n",
    "            return []\n",
    "        start_date_parts = date_parts[0].strip().split(' ')\n",
    "        end_date_parts = date_parts[1].strip().split(' ')\n",
    "        \n",
    "        start_date = start_date_parts[1]\n",
    "        end_date = end_date_parts[1] if len(end_date_parts)==2 else end_date_parts[0]\n",
    "        \n",
    "        start_date = expand_year(start_date)\n",
    "        end_date = expand_year(end_date)\n",
    "            \n",
    "        if len(start_date.split('/'))==2 and len(end_date.split('/'))==2:\n",
    "            print(f'SubID: {row[\"SubID\"]} {row[\"Submission_Range\"]} Range End Date Year: {end_date} Start Year: {start_date}')\n",
    "            return []\n",
    "        elif len(start_date.split('/'))==2:\n",
    "            end_date_month, end_date_date ,end_date_year = end_date.split('/')\n",
    "            start_date_year = end_date_year \n",
    "            if end_date_month=='1' and end_date_date in['1','2','3']:\n",
    "                start_date_year = str(int(end_date_year) - 1)\n",
    "            start_date = start_date + f'/{start_date_year}'\n",
    "        \n",
    "        elif len(end_date.split('/'))==2:\n",
    "            start_date_month, start_date_date, start_date_year = start_date.split('/')\n",
    "            end_date_year = start_date_year\n",
    "            if start_date_month=='12' and start_date_date in ['29','30','31']:\n",
    "                end_date_year = str(int(start_date_year)+1)\n",
    "            \n",
    "            end_date = end_date + f'/{end_date_year}'\n",
    "        \n",
    "        try:\n",
    "            start_date = pd.to_datetime(start_date, format='%m/%d/%Y')\n",
    "            end_date = pd.to_datetime(end_date, format='%m/%d/%Y')\n",
    "        except ValueError:\n",
    "            print(f'{start_date} and {end_date}')\n",
    "            \n",
    "        # date_range = pd.date_range(start_date, end_date, freq='D')\n",
    "        date_range = pd.date_range(start_date, periods=4, freq='D')\n",
    "        res = [date.strftime('%a %m/%d/%y') for date in date_range]\n",
    "        \n",
    "        if len(res)!=4:\n",
    "            print(row)\n",
    "            print(res)\n",
    "            print(f\"!! RANGE IS {row['Submission_Range']}, DATES ARE {start_date} and {end_date}\")\n",
    "        \n",
    "        return res\n",
    "    except Exception as e:\n",
    "        traceback.print_exc()\n",
    "        display(row)\n",
    "        print(e)\n",
    "        return []\n",
    "\n",
    "date_info_df['Submission_Date'] = date_info_df.apply(expand_date_range, axis=1)\n",
    "date_info_df = date_info_df.explode('Submission_Date').reset_index(drop=True)\n",
    "date_info_df['Burst'] = np.ceil(date_info_df['Weekend'] / 2).astype(int)\n",
    "date_info_df['Day'] = pd.to_datetime(date_info_df['Submission_Date'], format='%a %m/%d/%y').dt.strftime('%a')\n",
    "date_info_df = date_info_df[~date_info_df['Submission_Date'].isna()]\n",
    "date_info_df['Submission_Date'] = date_info_df['Submission_Date'].astype('datetime64[ns]')\n",
    "# date_info_df = date_info_df.drop(columns=['Submission_Range', 'Submission_Date']).reset_index(drop=True)"
   ]
  },
  {
   "cell_type": "code",
   "execution_count": 9,
   "id": "fa4d1319-9c95-4069-90f0-db55e3effc8e",
   "metadata": {
    "tags": []
   },
   "outputs": [],
   "source": [
    "date_info_df = date_info_df.drop(columns=['Submission_Range'])\n",
    "res_df = df.merge(date_info_df, left_on=['SubID','SubDate'], right_on=['SubID', 'Submission_Date'])\n",
    "res_df = res_df.drop(columns=['Submission_Date'])\n",
    "res_df = res_df[['SubID', 'Burst', 'Weekend', 'Day',  'RespID', 'RespType', 'UserID', 'SurvName', 'SurvType',\n",
    "       'InitDate', 'InitTime', 'SubDate', 'SubTime', 'TrigDate', 'TrigTime',\n",
    "       'MR_wake', 'MR_rise', 'MR_bed', 'MR_FlSlp', 'MR_SlpQlt', 'MR_DrnkNum',\n",
    "       'MR_DrnkDur', 'MR_rlx', 'MR_hngvr', 'MR_Embrssd', 'MR_agrsv', 'MR_vom',\n",
    "       'MR_hrt', 'MR_rmbr', 'MR_work', 'MR_rude', 'MR_soc', 'MR_exprs',\n",
    "       'MR_guilt', 'MR_expctd', 'MR_mood', 'MR_mrng', 'MR_prmsd', 'MR_more',\n",
    "       'MR_fght', 'MR_enrgtc', 'MR_PsdOut', 'MR_MsdClss', 'MR_Impls',\n",
    "       'MR_sleep', 'MR_weed', 'MR_plan', 'chr', 'anoy', 'upbt', 'sad', 'irit',\n",
    "       'hap', 'bor', 'cnt', 'RP_enrgz', 'RP_excit', 'RP_sedat', 'RP_slotht',\n",
    "       'RP_slug', 'RP_up', 'RP_crntloc', 'RP_othrloc', 'RP_wthothr',\n",
    "       'RP_NumOth', 'RP_OthTyp', 'RP_OthWho', 'RP_EnjInt', 'RP_ActCld',\n",
    "       'RP_ActAcc', 'RP_OthCld', 'RP_OthAcc', 'RP_Vrtl', 'RP_AlnLke',\n",
    "       'RP_AlnGd', 'RP_WshOth', 'RP_lnly', 'RP_rjct', 'RP_incl', 'RP_acpt',\n",
    "       'RP_vrtint', 'RP_vrtoth', 'RP_vrtwho', 'RP_vrtenj', 'RP_vrtcld',\n",
    "       'RP_VrtAcc', 'RP_VrtOthCld', 'RP_VrtOthAcc', 'RP_NotInt', 'RP_WshInt',\n",
    "       'RP_lonely', 'RP_reject', 'RP_included', 'RP_accepted', 'RP_said',\n",
    "       'RP_spent', 'RP_impt', 'RP_spur', 'RP_Drnk']]"
   ]
  },
  {
   "cell_type": "code",
   "execution_count": 17,
   "id": "e5dba532-ab4e-4801-9e34-f6e8e6d1436b",
   "metadata": {
    "tags": []
   },
   "outputs": [],
   "source": [
    "res_df = res_df.sort_values(by=['SubID','SubDate','SurvName']).reset_index(drop=True)"
   ]
  },
  {
   "cell_type": "code",
   "execution_count": 18,
   "id": "5a854149-8792-4712-8e8c-ef3e53ed82c5",
   "metadata": {
    "tags": []
   },
   "outputs": [],
   "source": [
    "res_df.to_csv('D:\\Program Files\\Documents\\CMU\\BAR_EMA\\output_data\\data_draft.csv', index=False)"
   ]
  },
  {
   "cell_type": "markdown",
   "id": "34707e81-2e1b-4641-9cf5-2ee84510f2a8",
   "metadata": {},
   "source": [
    "### MR_DrnkDur Column"
   ]
  },
  {
   "cell_type": "markdown",
   "id": "bc2f3c73-82bf-4b3a-9365-60e3aec2253f",
   "metadata": {},
   "source": [
    "### MR_wake"
   ]
  },
  {
   "cell_type": "markdown",
   "id": "5ad1550c-1f26-46fe-88c0-5a5ee1fb56f9",
   "metadata": {},
   "source": [
    "### See next jupyter part...."
   ]
  },
  {
   "cell_type": "code",
   "execution_count": null,
   "id": "b0b6d0f7-58d0-4164-afe2-1acd374d44ff",
   "metadata": {},
   "outputs": [],
   "source": []
  }
 ],
 "metadata": {
  "kernelspec": {
   "display_name": "Python 3 (ipykernel)",
   "language": "python",
   "name": "python3"
  },
  "language_info": {
   "codemirror_mode": {
    "name": "ipython",
    "version": 3
   },
   "file_extension": ".py",
   "mimetype": "text/x-python",
   "name": "python",
   "nbconvert_exporter": "python",
   "pygments_lexer": "ipython3",
   "version": "3.11.3"
  }
 },
 "nbformat": 4,
 "nbformat_minor": 5
}
