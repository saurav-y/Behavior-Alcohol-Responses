{
 "cells": [
  {
   "cell_type": "markdown",
   "id": "0b264698-0e75-424a-bb89-841ba8f6ef9e",
   "metadata": {},
   "source": [
    "### Install required dependencies"
   ]
  },
  {
   "cell_type": "code",
   "execution_count": null,
   "id": "20490572-60bc-4ba2-a269-100401ba3beb",
   "metadata": {},
   "outputs": [],
   "source": [
    "%%capture\n",
    "!pip install tqdm\n",
    "!pip install seaborn"
   ]
  },
  {
   "cell_type": "markdown",
   "id": "edb0b983-7be0-45e6-950a-7b9f4c6fb96e",
   "metadata": {},
   "source": [
    "### Import dependecies"
   ]
  },
  {
   "cell_type": "code",
   "execution_count": null,
   "id": "976ad9fd-9eb9-4388-b1f2-1433c698c3cc",
   "metadata": {
    "tags": []
   },
   "outputs": [],
   "source": [
    "import pandas as pd\n",
    "import numpy as np\n",
    "import os\n",
    "from tqdm import tqdm\n",
    "import time\n",
    "import traceback\n",
    "import re\n",
    "from datetime import datetime\n",
    "import matplotlib.pyplot as plt\n",
    "import seaborn as sns\n",
    "\n",
    "pd.set_option('display.max_rows', None)\n",
    "pd.set_option('display.max_columns', None)\n",
    "pd.options.mode.chained_assignment = None"
   ]
  },
  {
   "cell_type": "markdown",
   "id": "04b3c997-1243-4f50-af89-99c23389693e",
   "metadata": {},
   "source": [
    "### Initialize File Paths"
   ]
  },
  {
   "cell_type": "code",
   "execution_count": null,
   "id": "fd97301f-f412-4792-8f68-0ffb2286fa2f",
   "metadata": {
    "tags": []
   },
   "outputs": [],
   "source": [
    "input_file_path = '/Users/sauravyadav/Documents/Repos/Datasets/BAR_EMA/output_data/data_draft.csv'\n",
    "output_file_path = '/Users/sauravyadav/Documents/Repos/Datasets/BAR_EMA/output_data/data_draft_v2.csv'"
   ]
  },
  {
   "cell_type": "code",
   "execution_count": null,
   "id": "2712cd6d-409b-45a6-8d5d-89e11372f1c9",
   "metadata": {
    "tags": []
   },
   "outputs": [],
   "source": [
    "df = pd.read_csv(input_file_path)\n",
    "df.head(3)"
   ]
  },
  {
   "cell_type": "markdown",
   "id": "3c9d18be-b678-45a4-96dc-171fffb9111d",
   "metadata": {
    "tags": []
   },
   "source": [
    "### TO DO\n",
    "- Fill in Daytime Survey values\n",
    "- MR_DrnkDur Column\n",
    "- MR_wake"
   ]
  },
  {
   "cell_type": "markdown",
   "id": "5dfc1020-df79-4372-afa8-289ff117bbb2",
   "metadata": {},
   "source": [
    "### 1. Filling Daytime Survey Values"
   ]
  },
  {
   "cell_type": "code",
   "execution_count": null,
   "id": "ab25681f-9173-4a6f-821b-2a3d14895f4f",
   "metadata": {
    "tags": []
   },
   "outputs": [],
   "source": [
    "# Create a progress bar using tqdm\n",
    "progress_bar = tqdm(total=len(df[df['SurvName'] == 'Daytime Surveys']))\n",
    "\n",
    "# Iterate over rows with SurvName equal to 'Daytime Surveys'\n",
    "for index, row in df[df['SurvName'] == 'Daytime Surveys'].iterrows():\n",
    "    date = row['SubDate']\n",
    "    \n",
    "    morning_df = df[(df['SubDate'] == date) & (df['SurvName'] == 'Morning Reports')]\n",
    "    if len(morning_df)==0:\n",
    "        continue\n",
    "\n",
    "    # Assuming that in a given day only one morning survey is available. Is this a sound assumption?\n",
    "    morning_reports_row = morning_df.iloc[0]\n",
    "\n",
    "    # Fill NaN values in the 'Daytime Surveys' row using corresponding 'Morning Reports' row\n",
    "    for column in df.columns:\n",
    "        if pd.isna(row[column]):\n",
    "            df.loc[index, column] = morning_reports_row[column]\n",
    "\n",
    "    progress_bar.update(1)\n",
    "\n",
    "progress_bar.close()"
   ]
  },
  {
   "cell_type": "markdown",
   "id": "b01716a6-aa29-4df0-a4f1-2efdde08822f",
   "metadata": {},
   "source": [
    "### Normalizing MR_DrnkDur"
   ]
  },
  {
   "cell_type": "code",
   "execution_count": null,
   "id": "edac9313-174c-446b-8f84-38b1adc0d988",
   "metadata": {
    "tags": []
   },
   "outputs": [],
   "source": [
    "def normalize_duration(duration_str):\n",
    "    result = ''\n",
    "    if not duration_str or duration_str=='CONDITION_SKIPPED' or duration_str=='nan' or pd.isna(duration_str):\n",
    "        result = 'CONDITION_SKIPPED'\n",
    "    \n",
    "    if result != 'CONDITION_SKIPPED':\n",
    "        duration_str = str(duration_str)\n",
    "        # Use regular expressions to extract hours and minutes\n",
    "        hours = 0\n",
    "        minutes = 0\n",
    "\n",
    "        # Extract hours\n",
    "        hours_match = re.search(r'(\\d+)\\s*hours?|(\\d+)\\s*hrs?|(^\\d+)\\s*\\d*$', duration_str)\n",
    "        if hours_match:\n",
    "            for group in hours_match.groups():\n",
    "                if group is not None:\n",
    "                    hours = int(group)\n",
    "                    break\n",
    "\n",
    "        # Extract minutes\n",
    "        minutes_match = re.search(r'(\\d+)\\s*minutes+|(\\d+)\\s*min+|\\s+(\\d+$)', duration_str)\n",
    "        if minutes_match:\n",
    "            for group in minutes_match.groups():\n",
    "                if group is not None:\n",
    "                    minutes = int(group)\n",
    "                    break\n",
    "        result = f'{hours} hours {minutes} minutes'\n",
    "\n",
    "    # # Calculate the total time in minutes\n",
    "    # total_minutes = hours * 60 + minutes\n",
    "    \n",
    "#     print(f'{duration_str} ----> {result}')\n",
    "\n",
    "    return f'{result}'\n",
    "\n",
    "# Apply the normalization function to the DataFrame\n",
    "df['MR_DrnkDur'] = df['MR_DrnkDur'].apply(normalize_duration)"
   ]
  },
  {
   "cell_type": "code",
   "execution_count": null,
   "id": "5b490070-3d93-4da8-a141-beaa0ff49aed",
   "metadata": {},
   "outputs": [],
   "source": [
    "df.shape"
   ]
  },
  {
   "cell_type": "markdown",
   "id": "b6c528cb-bc13-46e4-9867-0cca0a5c43c7",
   "metadata": {},
   "source": [
    "### Plot MR Time Columns"
   ]
  },
  {
   "cell_type": "code",
   "execution_count": null,
   "id": "acef733c-d76d-4046-9994-87423f4ff8d6",
   "metadata": {},
   "outputs": [],
   "source": [
    "\n",
    "# time_columns = ['MR_wake', 'MR_rise', 'MR_bed']\n",
    "# plt.figure(figsize=(8, 6))\n",
    "# hour_labels = [f\"{i:02d}:00:00\" for i in range(25)]\n",
    "\n",
    "# # Create a Seaborn color palette for multiple columns\n",
    "# palette = sns.color_palette(\"hls\", len(time_columns))\n",
    "\n",
    "# for index, time_column in enumerate(time_columns):\n",
    "#     # Plot the frequencies for each time column\n",
    "#     temp_df = df[time_column].value_counts().reset_index().sort_values(by=[time_column]).reset_index(drop=True)\n",
    "#     sns.barplot(x=temp_df[time_column], y=temp_df['count'], label=f'{time_column} vs. Frequency', color=palette[index])\n",
    "\n",
    "# plt.xlabel('Time')\n",
    "# plt.ylabel('Frequency')\n",
    "# plt.title('Time vs. Frequency for MR time columns')\n",
    "\n",
    "# # Show a legend to distinguish each line\n",
    "# plt.legend()\n",
    "\n",
    "# # Set x-tick positions and labels\n",
    "# x_ticks = np.arange(0, len(hour_labels))\n",
    "# plt.xticks(x_ticks, hour_labels, rotation=45)\n",
    "\n",
    "# # Show the plot\n",
    "# plt.tight_layout()\n",
    "# plt.show()\n"
   ]
  },
  {
   "cell_type": "code",
   "execution_count": null,
   "id": "fd801753-6600-40de-b28f-bdd8cc778068",
   "metadata": {
    "tags": []
   },
   "outputs": [],
   "source": [
    "df.to_csv(output_file_path,index=False)"
   ]
  }
 ],
 "metadata": {
  "kernelspec": {
   "display_name": "Python 3 (ipykernel)",
   "language": "python",
   "name": "python3"
  },
  "language_info": {
   "codemirror_mode": {
    "name": "ipython",
    "version": 3
   },
   "file_extension": ".py",
   "mimetype": "text/x-python",
   "name": "python",
   "nbconvert_exporter": "python",
   "pygments_lexer": "ipython3",
   "version": "3.12.0"
  }
 },
 "nbformat": 4,
 "nbformat_minor": 5
}
