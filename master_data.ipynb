{
 "cells": [
  {
   "cell_type": "code",
   "execution_count": null,
   "id": "7eb2aaa9-dd09-4cc9-8f4c-c0fc3dd06a98",
   "metadata": {},
   "outputs": [],
   "source": [
    "import pandas as pd\n",
    "import numpy as np\n",
    "import os\n",
    "from tqdm import tqdm\n",
    "import time\n",
    "import traceback\n",
    "import re\n",
    "from datetime import datetime, timedelta\n",
    "import matplotlib.pyplot as plt\n",
    "import seaborn as sns\n",
    "\n",
    "pd.set_option('display.max_rows', None)\n",
    "pd.set_option('display.max_columns', None)\n",
    "pd.options.mode.chained_assignment = None"
   ]
  },
  {
   "cell_type": "code",
   "execution_count": null,
   "id": "61d62679-6260-4f12-b2dc-ea9a22a38889",
   "metadata": {},
   "outputs": [],
   "source": [
    "# Contains First Drink and FollowUp Surveys\n",
    "drinking_surveys_fp = '/Users/sauravyadav/Documents/Repos/Datasets/Drinking_Surveys/output/data_draft_v3.csv'\n",
    "\n",
    "# Contains Morning Reports and Daytime Surveys\n",
    "morning_random_surveys_fp = '/Users/sauravyadav/Documents/Repos/Datasets/BAR_EMA/output_data/data_draft_v3.csv'\n",
    "\n",
    "# Output File Paths\n",
    "master_df_fp = '/Users/sauravyadav/Documents/Repos/Datasets/master_data_draft.csv'\n",
    "master_vc_df_fp = '/Users/sauravyadav/Documents/Repos/Datasets/mapping.csv'"
   ]
  },
  {
   "cell_type": "markdown",
   "id": "f1a2fd47-5b37-4860-8bee-30ee0c871c92",
   "metadata": {},
   "source": [
    "### Adding SurvNamePlus Column to Morning Reports and Daytime Surveys\n",
    "- dr_df contains Drinking Surveys: \"After Your 1st Drink\", \"Long\", \"Short\"\n",
    "- mr_r_df contains Morning Reports and Daytime Surveys"
   ]
  },
  {
   "cell_type": "code",
   "execution_count": null,
   "id": "59577e76-0bf6-4e19-a04e-9bca4169aea1",
   "metadata": {},
   "outputs": [],
   "source": [
    "dr_df = pd.read_csv(drinking_surveys_fp)\n",
    "mr_r_df = pd.read_csv(morning_random_surveys_fp)\n",
    "\n",
    "conditions = [\n",
    "    (mr_r_df['SurvName'] == 'Morning Reports'),\n",
    "    (mr_r_df['SurvName'] == 'Daytime Surveys')\n",
    "]\n",
    "\n",
    "# Define the choices corresponding to each condition\n",
    "choices = ['Morning', 'Day']\n",
    "\n",
    "# Use numpy.select to apply the conditions and choices\n",
    "mr_r_df['SurvNamePlus'] = np.select(conditions, choices)"
   ]
  },
  {
   "cell_type": "code",
   "execution_count": null,
   "id": "57bbaceb-2488-4215-97fe-6f6c4d54b8ad",
   "metadata": {},
   "outputs": [],
   "source": [
    "mr_r_df[(mr_r_df['SurvName'] == 'Morning Reports') & (mr_r_df['InitDate'].isna())].sample(2)"
   ]
  },
  {
   "cell_type": "markdown",
   "id": "b94bbb7c-f831-448a-b5be-be2351d09c5e",
   "metadata": {},
   "source": [
    "### Convert Decimals to int: Drinking Surveys."
   ]
  },
  {
   "cell_type": "code",
   "execution_count": null,
   "id": "b17007d9-7579-445b-a73d-ab1f01b36448",
   "metadata": {},
   "outputs": [],
   "source": [
    "print('Before:')\n",
    "display(dr_df.head(2))\n",
    "int_cols = ['Burst', 'Weekend', 'Drinking_bin', 'UI_DrnkFin',\n",
    "       'UI_DrnkNum', 'DrnkNum', 'DrnkNum_combine', 'DrnkNum_cumulative',\n",
    "       'Plsur', 'Rliev', 'IntxNow', 'MorAlc', 'enrgz', 'excit', 'sedat',\n",
    "       'slotht', 'slug', 'up', 'crntloc', 'othrloc', 'wthothr', 'NumOth',\n",
    "       'OthTyp', 'OthWho', 'EnjInt', 'ActCld', 'ActAcc', 'OthCld', 'OthAcc',\n",
    "       'Vrtl', 'AlnLke', 'AlnGd', 'WshOth', 'lnly', 'rjct', 'incl', 'acpt',\n",
    "       'vrtint', 'vrtoth', 'vrtwho', 'vrtenj', 'vrtcld', 'VrtAcc', 'VrtOthCld',\n",
    "       'VrtOthAcc', 'NotInt', 'WshInt', 'UI_NtInt_lnly', 'UI_NtInt_rjct',\n",
    "       'UI_NtInt_incl', 'UI_NtInt_acpt', 'said', 'spent', 'impt', 'spur']\n",
    "\n",
    "for col in int_cols:\n",
    "    dr_df[col] = dr_df[col].astype('Int64', errors = 'ignore')\n",
    "\n",
    "display(dr_df.head(2))"
   ]
  },
  {
   "cell_type": "code",
   "execution_count": null,
   "id": "018f2caf-473b-4242-8900-3ef614eba2f4",
   "metadata": {},
   "outputs": [],
   "source": [
    "display(mr_r_df.sample(5))"
   ]
  },
  {
   "cell_type": "markdown",
   "id": "1d845cca-04fb-457d-a73a-6e74f13cd037",
   "metadata": {},
   "source": [
    "### Convert Decimals to int: Morning Reports and Daytime Surveys."
   ]
  },
  {
   "cell_type": "code",
   "execution_count": null,
   "id": "ee758cf2-b64b-41ce-992f-f3217c203953",
   "metadata": {},
   "outputs": [],
   "source": [
    "print('Before:')\n",
    "display(mr_r_df.head(2))\n",
    "int_cols = ['MR_FlSlp', 'MR_SlpQlt', 'MR_DrnkNum', 'MR_DrnkDur_min', 'MR_rlx', 'MR_hngvr', 'MR_Embrssd', \n",
    "            'MR_agrsv', 'MR_vom', 'MR_hrt', 'MR_rmbr', 'MR_work', 'MR_rude', 'MR_soc', 'MR_exprs', 'MR_guilt',\n",
    "            'MR_expctd', 'MR_mood', 'MR_mrng', 'MR_prmsd', 'MR_more', 'MR_fght', 'MR_enrgtc', 'MR_PsdOut',\n",
    "            'MR_MsdClss', 'MR_Impls', 'MR_sleep', 'MR_weed', 'MR_plan', 'chr', 'anoy', 'upbt', 'sad', 'irit',\n",
    "            'hap', 'bor', 'cnt', 'RP_enrgz', 'RP_excit', 'RP_sedat', 'RP_slotht', 'RP_slug', 'RP_up', 'RP_crntloc',\n",
    "            'RP_othrloc', 'RP_wthothr', 'RP_NumOth', 'RP_OthTyp', 'RP_OthWho', 'RP_EnjInt', 'RP_ActCld', 'RP_ActAcc',\n",
    "            'RP_OthCld', 'RP_OthAcc', 'RP_Vrtl', 'RP_AlnLke', 'RP_AlnGd', 'RP_WshOth', 'RP_lnly', 'RP_rjct', 'RP_incl',\n",
    "            'RP_acpt', 'RP_vrtint', 'RP_vrtoth', 'RP_vrtwho', 'RP_vrtenj', 'RP_vrtcld', 'RP_VrtAcc', 'RP_VrtOthCld', 'RP_VrtOthAcc',\n",
    "            'RP_NotInt', 'RP_WshInt', 'RP_lonely', 'RP_reject', 'RP_included', 'RP_accepted', 'RP_said', 'RP_spent', 'RP_impt', 'RP_spur',\n",
    "            'RP_Drnk', 'MR_duration_bed_wake', 'MR_duration_bed_wake_minutes', 'MR_duration_bed_rise', 'MR_duration_bed_rise_minutes', 'MR_duration_wake_rise',\n",
    "            'MR_duration_wake_rise_minutes', 'MR_wake+', 'MR_rise+', 'MR_bed+']\n",
    "\n",
    "for col in int_cols:\n",
    "    mr_r_df[col] = mr_r_df[col].astype('Int64', errors = 'ignore')\n",
    "\n",
    "display(mr_r_df.head(2))"
   ]
  },
  {
   "cell_type": "markdown",
   "id": "d92e27f4-736b-42ce-9f8b-33a88d97a9f7",
   "metadata": {},
   "source": [
    "### Renaming column in MR to match requested data format"
   ]
  },
  {
   "cell_type": "code",
   "execution_count": null,
   "id": "2b8648e4-c425-44b4-93dc-99980a730a38",
   "metadata": {},
   "outputs": [],
   "source": [
    "display(mr_r_df.head(2))\n",
    "no_RP_rename = ['RP_lonely', 'RP_reject', 'RP_included', 'RP_accepted', 'RP_Drnk']\n",
    "renames = {}\n",
    "for col in mr_r_df.columns:\n",
    "    if col in no_RP_rename:\n",
    "        continue\n",
    "    renames[col] = col.replace('RP_', '')\n",
    "mr_r_df = mr_r_df.rename(columns = renames)\n",
    "display(mr_r_df.head(2))"
   ]
  },
  {
   "cell_type": "markdown",
   "id": "9c6dd4aa-6ff9-4853-b027-d8f6b963c1cf",
   "metadata": {},
   "source": [
    "### Uniform Date Format (Changing MR date format to match that of drinking surveys)"
   ]
  },
  {
   "cell_type": "code",
   "execution_count": null,
   "id": "862cbb0b-e5d4-4e10-b297-421e9e2c996f",
   "metadata": {},
   "outputs": [],
   "source": [
    "display(mr_r_df.head(2))\n",
    "date_cols = ['InitDate','SubDate','TrigDate']\n",
    "for date_col in date_cols:\n",
    "    mr_r_df[date_col] = pd.to_datetime(mr_r_df[date_col])\n",
    "    \n",
    "    # Format the 'date' column as 'M/D/YYYY'\n",
    "    mr_r_df[date_col] = mr_r_df[date_col].dt.strftime('%-m/%d/%Y')\n",
    "display(mr_r_df.head(2))"
   ]
  },
  {
   "cell_type": "markdown",
   "id": "e535a17d-6124-4703-baa8-5b7c1e08342e",
   "metadata": {},
   "source": [
    "## Creating a MASTER DATAFRAME"
   ]
  },
  {
   "cell_type": "markdown",
   "id": "5abcced3-f5c9-4588-afe0-2ebb629fb702",
   "metadata": {},
   "source": [
    "### Concatenating"
   ]
  },
  {
   "cell_type": "code",
   "execution_count": null,
   "id": "0205662c-b097-4144-9138-c8c322597a26",
   "metadata": {},
   "outputs": [],
   "source": [
    "master_df = pd.concat([mr_r_df, dr_df]).reset_index(drop=True)\n",
    "master_df.head(2)"
   ]
  },
  {
   "cell_type": "markdown",
   "id": "6f56c3be-43a9-43c6-bb51-61bb59943450",
   "metadata": {},
   "source": [
    "### Formatting Time Columns"
   ]
  },
  {
   "cell_type": "code",
   "execution_count": null,
   "id": "3cb5d26f-2982-45c0-b0fc-7d0e11a84817",
   "metadata": {},
   "outputs": [],
   "source": [
    "time_cols = ['InitTime', 'SubTime', 'TrigTime']\n",
    "for time_col in time_cols:\n",
    "    master_df[time_col] = master_df[time_col].str.zfill(8)"
   ]
  },
  {
   "cell_type": "markdown",
   "id": "19d58ccf-dfe9-4135-be2f-3596191574c5",
   "metadata": {},
   "source": [
    "### Sorting the Dataframe appropriately"
   ]
  },
  {
   "cell_type": "code",
   "execution_count": null,
   "id": "79b48fda-a900-4fb3-a5e2-adff3ee2d0d9",
   "metadata": {},
   "outputs": [],
   "source": [
    "weekday_encoding = {'Mon': 1, 'Tue': 2, 'Wed': 3, 'Thu': 4, 'Fri': 5, 'Sat': 6, 'Sun': 7}\n",
    "master_df['day_encoding'] = master_df['Day'].map(weekday_encoding)\n",
    "master_df = master_df.sort_values(by=['SubID', 'Burst', 'Weekend', 'TrigDate', 'TrigTime', 'SubDate', 'SubTime']).reset_index(drop=True)"
   ]
  },
  {
   "cell_type": "code",
   "execution_count": null,
   "id": "93800b4a-90a4-4ca4-a90c-61c607a9bccc",
   "metadata": {},
   "outputs": [],
   "source": [
    "master_df.head(2)"
   ]
  },
  {
   "cell_type": "markdown",
   "id": "3166d273-4364-4e05-85a0-d2331188bb60",
   "metadata": {},
   "source": [
    "### Adding a survey miss column to indicate missed surveys"
   ]
  },
  {
   "cell_type": "code",
   "execution_count": null,
   "id": "e3265bef-179f-4bc6-9165-111265d65d8d",
   "metadata": {},
   "outputs": [],
   "source": [
    "master_df['SurveyMiss'] = ''\n",
    "master_df['Comment'] = ''\n",
    "\n",
    "mr_bed_df = master_df[(~master_df['MR_bed+'].isnull()) & (master_df['SurvNamePlus'].isin(['Morning', 'Day']))]\n",
    "\n",
    "for index, row in tqdm(mr_bed_df.iterrows(), total=mr_bed_df.shape[0]):\n",
    "    current_index_position = master_df.index.get_loc(index)\n",
    "\n",
    "    sub_time = pd.to_timedelta(row['SubTime'])\n",
    "    bed_time = pd.to_timedelta(row['MR_bed+'])\n",
    "    date = pd.to_datetime(row['SubDate']).date()\n",
    "    \n",
    "    if sub_time < bed_time:\n",
    "        date = date - pd.Timedelta(days=1)\n",
    "        \n",
    "    try:\n",
    "        bed_time_hms = pd.to_datetime(row['MR_bed+'], format='%H:%M:%S').time()\n",
    "    except Exception as e:\n",
    "        bed_time_hms = pd.to_datetime(row['MR_bed'], format='%H:%M:%S').time()\n",
    "    \n",
    "    # Combine the adjusted date with 'bed_time_hms'\n",
    "    cutoff_datetime = pd.Timestamp.combine(pd.Timestamp(date), bed_time_hms)\n",
    "\n",
    "    for back_index in range(current_index_position - 1, -1, -1):\n",
    "        try:            \n",
    "            sub_datetime = pd.to_datetime(master_df.iloc[back_index]['TrigDate'] + ' ' + master_df.iloc[back_index]['TrigTime'])\n",
    "\n",
    "            tdifference = cutoff_datetime - sub_datetime\n",
    "\n",
    "            if (master_df.iloc[back_index]['SurvNamePlus'] == 'Start') or (master_df.iloc[back_index]['SurvNamePlus'] == 'Morning'):\n",
    "                # Do something with the found row\n",
    "                master_df.at[back_index, 'Comment'] = 'Start/Morning Reached. Breaking.'\n",
    "                break\n",
    "            elif (master_df.iloc[back_index]['SubID'] != row['SubID']):\n",
    "                master_df.at[back_index, 'Comment'] = 'Different Subject.'\n",
    "                break\n",
    "            elif 'Missed' in master_df.iloc[back_index]['RespType'] and 'Drinking Follow' in master_df.iloc[back_index]['SurvName']:\n",
    "                master_df.at[back_index, 'Comment'] = 'Potential'\n",
    "                \n",
    "                if tdifference > pd.Timedelta(days=1):\n",
    "                    master_df.at[back_index, 'Comment'] = 'Too far back.'\n",
    "                    break\n",
    "\n",
    "                master_df.at[back_index, 'SurveyMiss'] = 0\n",
    "                    \n",
    "                try:\n",
    "                    if sub_datetime < cutoff_datetime:\n",
    "                        master_df.at[back_index, 'SurveyMiss'] = 1\n",
    "                except Exception as e:\n",
    "                    print(master_df.iloc[back_index])\n",
    "        except Exception as e:\n",
    "            print(e)\n",
    "            traceback.print_exc()\n",
    "            print(master_df.iloc[back_index])\n",
    "            break\n"
   ]
  },
  {
   "cell_type": "code",
   "execution_count": null,
   "id": "f5833fcf-9dcf-425a-8df6-7523d1c386e8",
   "metadata": {},
   "outputs": [],
   "source": [
    "master_df.shape"
   ]
  },
  {
   "cell_type": "code",
   "execution_count": null,
   "id": "7eeca84a-b6c6-4b4a-bff4-d6bb5a35ffda",
   "metadata": {},
   "outputs": [],
   "source": [
    "temp = master_df[['RespType', 'SurvName', 'SurvType', 'SubID', 'Weekend', 'Day', 'InitDate', 'InitTime', 'SubDate', 'SubTime', 'TrigDate', 'TrigTime', 'MR_bed', 'MR_bed+', 'SurveyMiss', 'Comment']]\n",
    "x = 55000\n",
    "chunk_size = 2\n",
    "temp.iloc[x : x + chunk_size]"
   ]
  },
  {
   "cell_type": "markdown",
   "id": "0495922e-1953-4c7c-a5a5-ea5e2ab7eaa5",
   "metadata": {},
   "source": [
    "### Adding SurveyCount Column"
   ]
  },
  {
   "cell_type": "code",
   "execution_count": null,
   "id": "20c7ba50-8cd5-4ae9-ba7c-7ede859726ea",
   "metadata": {},
   "outputs": [],
   "source": [
    "master_df['RespType'].value_counts()"
   ]
  },
  {
   "cell_type": "code",
   "execution_count": null,
   "id": "0da27866-e3d6-462d-96fe-5866f25f78c5",
   "metadata": {},
   "outputs": [],
   "source": [
    "master_df['SurveyCount'] = ''\n",
    "master_df['SurveyCount'] = np.where(master_df['RespType'] == 'Submission', 1, master_df['SurveyCount'])\n",
    "\n",
    "condition2 = ((master_df['RespType'] == 'Missed') | (master_df['RespType'] == 'Missed (Synthetic)')) & (master_df['SurveyMiss'] == 1)\n",
    "master_df.loc[condition2, 'SurveyCount'] = 0\n",
    "\n",
    "\n",
    "master_df.loc[((master_df['RespType'] == 'Missed') | (master_df['RespType'] == 'Missed (Synthetic)')) & (master_df['SurvName'].isin(['Morning Reports', 'Daytime Surveys']) ), 'SurveyCount'] = 0\n",
    "\n",
    "master_df.loc[((master_df['RespType'] == 'Missed') | (master_df['RespType'] == 'Missed (Synthetic)')) & (master_df['SurvName'].isin(['After Your 1st Drink']) ), 'SurveyCount'] = 2\n",
    "\n",
    "# condition2 = ((master_df['RespType'] == 'Missed') | (master_df['RespType'] == 'Missed (Synthetic)')) & (master_df['SurveyMiss'] == '')\n",
    "# master_df.loc[condition2, 'SurveyCount'] = -1\n",
    "\n",
    "# Condition 3: RespType = Missed or Missed (Synthetic) AND SurveyMiss = 0, SurveyCount should be 2\n",
    "condition3 = ((master_df['RespType'] == 'Missed') | (master_df['RespType'] == 'Missed (Synthetic)')) & (master_df['SurveyMiss'] == 0)\n",
    "master_df.loc[condition3, 'SurveyCount'] = 2"
   ]
  },
  {
   "cell_type": "markdown",
   "id": "74d257e5-ac57-4ebb-878c-536e692a8809",
   "metadata": {},
   "source": [
    "### Column Ordering and Renaming"
   ]
  },
  {
   "cell_type": "code",
   "execution_count": null,
   "id": "910a7270-6426-4591-9718-30f237ae4a11",
   "metadata": {},
   "outputs": [],
   "source": [
    "column_order = ['SubID', 'Burst', 'Weekend', 'Day', 'RespID', 'RespType', 'SurveyMiss', 'SurveyCount', 'UserID', 'SurvName', 'SurvNamePlus', 'SurvType', 'InitDate', 'InitTime', 'SubDate',\n",
    "                'SubTime', 'TrigDate', 'TrigTime',  'Drinking_bin', 'UI_DrnkFin', 'UI_DrnkNum', 'DrnkNum', 'DrnkNum_combine', 'DrnkNum_cumulative',\n",
    "                'MR_wake', 'MR_wake+', 'MR_rise', 'MR_rise+', 'MR_bed', 'MR_bed+', 'MR_duration_bed_wake', 'MR_duration_bed_wake_minutes', 'MR_FlSlp',\n",
    "                'MR_SlpQlt', 'MR_DrnkNum', 'MR_DrnkDur_original', 'MR_DrnkDur', 'MR_DrnkDur_min', 'MR_rlx', 'MR_hngvr', 'MR_Embrssd', 'MR_agrsv', 'MR_vom', 'MR_hrt', 'MR_rmbr', 'MR_work', 'MR_rude',\n",
    "                'MR_soc', 'MR_exprs', 'MR_guilt', 'MR_expctd', 'MR_mood', 'MR_mrng', 'MR_prmsd', 'MR_more', 'MR_fght', 'MR_enrgtc', 'MR_PsdOut', 'MR_MsdClss',\n",
    "                'MR_Impls', 'MR_sleep', 'MR_weed', 'MR_plan', 'chr', 'anoy', 'upbt', 'sad', 'irit', 'hap', 'bor', 'cnt', 'enrgz', 'excit', 'sedat', 'slotht', 'slug',\n",
    "                'up', 'crntloc', 'othrloc', 'wthothr', 'NumOth', 'OthTyp', 'OthWho', 'EnjInt', 'ActCld', 'ActAcc', 'OthCld', 'OthAcc', 'Vrtl', 'AlnLke', 'AlnGd', 'WshOth',\n",
    "                'lnly', 'rjct', 'incl', 'acpt', 'vrtint', 'vrtoth', 'vrtwho', 'vrtenj', 'vrtcld', 'VrtAcc', 'VrtOthCld', 'VrtOthAcc', 'NotInt', 'WshInt', 'UI_NtInt_lnly', 'UI_NtInt_rjct',\n",
    "                'UI_NtInt_incl', 'UI_NtInt_acpt','said', 'spent', 'impt', 'spur','RP_lonely', 'RP_reject', 'RP_included', 'RP_accepted', 'RP_Drnk', 'Plsur', 'Rliev', 'IntxNow', 'MorAlc']\n",
    "\n",
    "master_df_ordered = master_df[column_order]\n",
    "column_renames = {'Burst' : 'Brst', 'Weekend' : 'Wknd', 'MR_duration_bed_wake': 'MR_duration', 'MR_duration_bed_wake_minutes': 'MR_duration_minutes'}\n",
    "master_df_ordered = master_df_ordered.rename(columns = column_renames)\n",
    "\n",
    "display(master_df_ordered.head())\n",
    "print(list(master_df_ordered.columns))"
   ]
  },
  {
   "cell_type": "markdown",
   "id": "44c2780a-5867-459c-abdf-8221ae0587b1",
   "metadata": {},
   "source": [
    "### Formatting SurvName with granular details"
   ]
  },
  {
   "cell_type": "code",
   "execution_count": null,
   "id": "4ddfe619-e361-4b00-bf95-38221848af07",
   "metadata": {},
   "outputs": [],
   "source": [
    "df_filtered = master_df_ordered[master_df_ordered['SurvName'] == 'Drinking Follow-Ups']\n",
    "master_df_ordered.loc[df_filtered.index, 'SurvName'] += ' ' + df_filtered['SurvNamePlus']"
   ]
  },
  {
   "cell_type": "code",
   "execution_count": null,
   "id": "119b225e-224a-420e-bd3b-781a93daf49a",
   "metadata": {},
   "outputs": [],
   "source": [
    "master_df_ordered.to_csv(master_df_fp, index = False)"
   ]
  },
  {
   "cell_type": "code",
   "execution_count": null,
   "id": "d1524fdc-e5fd-473c-8d9e-bad583607840",
   "metadata": {},
   "outputs": [],
   "source": [
    "master_df_ordered[['MR_DrnkDur_original', 'MR_DrnkDur']].value_counts().reset_index().to_csv(master_vc_df_fp, index=False)"
   ]
  },
  {
   "cell_type": "code",
   "execution_count": null,
   "id": "83e54195-2f79-4588-bbed-59e5707b7517",
   "metadata": {},
   "outputs": [],
   "source": [
    "# master_df_ordered[['MR_DrnkDur_original', 'MR_DrnkDur']].value_counts().reset_index()"
   ]
  },
  {
   "cell_type": "code",
   "execution_count": null,
   "id": "d3a8a3e6-8696-47d0-afa6-9c62f9e7e0f5",
   "metadata": {},
   "outputs": [],
   "source": [
    "master_df_ordered.sample(200)"
   ]
  },
  {
   "cell_type": "code",
   "execution_count": null,
   "id": "5faeb8c7-765f-414e-9e2b-9596e8822441",
   "metadata": {},
   "outputs": [],
   "source": [
    "master_df_ordered['SurveyCount'].value_counts()"
   ]
  },
  {
   "cell_type": "code",
   "execution_count": null,
   "id": "58323ca7-e791-4cec-a0b3-997003c29876",
   "metadata": {},
   "outputs": [],
   "source": [
    "master_df_ordered[master_df_ordered['SurvName'].isin(['Morning Reports', 'After Your 1st Drink'])].head(100)"
   ]
  },
  {
   "cell_type": "code",
   "execution_count": null,
   "id": "ab110faf-9725-44fa-9f00-faebf93d7ad2",
   "metadata": {},
   "outputs": [],
   "source": [
    "master_df_ordered[master_df_ordered['SurvName'] == 'After Your 1st Drink'].sample(5)"
   ]
  },
  {
   "cell_type": "code",
   "execution_count": null,
   "id": "6c768e17-98aa-47d6-b416-287981e03651",
   "metadata": {},
   "outputs": [],
   "source": [
    "master_df_ordered[['RespType', 'SurveyCount', 'SurvName']].value_counts().reset_index()"
   ]
  },
  {
   "cell_type": "code",
   "execution_count": null,
   "id": "149764eb-4e23-4f8a-8470-dc3c4be78640",
   "metadata": {},
   "outputs": [],
   "source": [
    "master_df_ordered['RespType'].value_counts()"
   ]
  },
  {
   "cell_type": "code",
   "execution_count": null,
   "id": "8abf497a-9937-4c48-9967-9fe61df09808",
   "metadata": {},
   "outputs": [],
   "source": []
  },
  {
   "cell_type": "code",
   "execution_count": null,
   "id": "667bac5e-1beb-4e0a-878e-05329075d268",
   "metadata": {},
   "outputs": [],
   "source": []
  }
 ],
 "metadata": {
  "kernelspec": {
   "display_name": "Python 3 (ipykernel)",
   "language": "python",
   "name": "python3"
  },
  "language_info": {
   "codemirror_mode": {
    "name": "ipython",
    "version": 3
   },
   "file_extension": ".py",
   "mimetype": "text/x-python",
   "name": "python",
   "nbconvert_exporter": "python",
   "pygments_lexer": "ipython3",
   "version": "3.12.0"
  }
 },
 "nbformat": 4,
 "nbformat_minor": 5
}
