{
 "cells": [
  {
   "cell_type": "code",
   "execution_count": 1,
   "id": "5ca901c7-1137-49fb-bef7-81bbbe95f369",
   "metadata": {},
   "outputs": [],
   "source": [
    "%%capture\n",
    "!pip install pyreadstat"
   ]
  },
  {
   "cell_type": "code",
   "execution_count": 2,
   "id": "12ad9df3",
   "metadata": {},
   "outputs": [],
   "source": [
    "import pandas as pd\n",
    "import matplotlib.pyplot as plt\n",
    "import numpy as np\n",
    "from datetime import date, timedelta\n",
    "\n",
    "import warnings\n",
    "warnings.filterwarnings(\"ignore\", category=np.VisibleDeprecationWarning) "
   ]
  },
  {
   "cell_type": "code",
   "execution_count": 3,
   "id": "ac02d372",
   "metadata": {},
   "outputs": [],
   "source": [
    "df = pd.read_spss(\"Data.sav\")"
   ]
  },
  {
   "cell_type": "code",
   "execution_count": 4,
   "id": "951f55b0",
   "metadata": {},
   "outputs": [],
   "source": [
    "df['Baseline'] = pd.to_datetime(df['Baseline'])\n",
    "df['Follow_up'] = pd.to_datetime(df['Follow_up'])\n",
    "df['PrePost_new'] = df['PrePost_new'].replace({'Pre-COVID':0, 'Post-COVID':1})\n",
    "\n",
    "#pre-COVID cohort\n",
    "pre_start_t0 = df[df['PrePost_new']==0]['Baseline'].min()\n",
    "pre_start_t1 = df[df['PrePost_new']==0]['Follow_up'].min()\n",
    "pre_duration_t0 = df[df['PrePost_new']==0]['Baseline'].max() - df[df['PrePost_new']==0]['Baseline'].min()\n",
    "pre_duration_t1 = df[df['PrePost_new']==0]['Follow_up'].max() - df[df['PrePost_new']==0]['Follow_up'].min()\n",
    "\n",
    "#post-COVID cohort\n",
    "post_start_t0 = df[df['PrePost_new']==1]['Baseline'].min()\n",
    "post_start_t1 = df[df['PrePost_new']==1]['Follow_up'].min()\n",
    "post_duration_t0 = df[df['PrePost_new']==1]['Baseline'].max() - df[df['PrePost_new']==1]['Baseline'].min()\n",
    "post_duration_t1 = df[df['PrePost_new']==1]['Follow_up'].max() - df[df['PrePost_new']==1]['Follow_up'].min()\n",
    "\n",
    "#stay-at-home order and limited bar space\n",
    "stay_at_home_start = date(2020,3,21)\n",
    "stay_at_home_end = date(2020,5,29)\n",
    "stay_at_home_duration = stay_at_home_end - stay_at_home_start\n",
    "\n",
    "limited_bar_end = date(2021,6,11)\n",
    "limited_bar_duration = limited_bar_end - stay_at_home_end"
   ]
  },
  {
   "cell_type": "code",
   "execution_count": 5,
   "id": "4476a9d8",
   "metadata": {},
   "outputs": [
    {
     "ename": "TypeError",
     "evalue": "Addition/subtraction of integers and integer-arrays with Timestamp is no longer supported.  Instead of adding/subtracting `n`, use `n * obj.freq`",
     "output_type": "error",
     "traceback": [
      "\u001b[0;31m---------------------------------------------------------------------------\u001b[0m",
      "\u001b[0;31mTypeError\u001b[0m                                 Traceback (most recent call last)",
      "Cell \u001b[0;32mIn[5], line 5\u001b[0m\n\u001b[1;32m      2\u001b[0m ax\u001b[38;5;241m.\u001b[39mscatter(df[\u001b[38;5;124m'\u001b[39m\u001b[38;5;124mBaseline\u001b[39m\u001b[38;5;124m'\u001b[39m], df[\u001b[38;5;124m'\u001b[39m\u001b[38;5;124mPrePost_new\u001b[39m\u001b[38;5;124m'\u001b[39m], marker\u001b[38;5;241m=\u001b[39m\u001b[38;5;124m\"\u001b[39m\u001b[38;5;124m|\u001b[39m\u001b[38;5;124m\"\u001b[39m)\n\u001b[1;32m      3\u001b[0m ax\u001b[38;5;241m.\u001b[39mscatter(df[\u001b[38;5;124m'\u001b[39m\u001b[38;5;124mFollow_up\u001b[39m\u001b[38;5;124m'\u001b[39m], df[\u001b[38;5;124m'\u001b[39m\u001b[38;5;124mPrePost_new\u001b[39m\u001b[38;5;124m'\u001b[39m], marker\u001b[38;5;241m=\u001b[39m\u001b[38;5;124m\"\u001b[39m\u001b[38;5;124m|\u001b[39m\u001b[38;5;124m\"\u001b[39m)\n\u001b[0;32m----> 5\u001b[0m \u001b[43max\u001b[49m\u001b[38;5;241;43m.\u001b[39;49m\u001b[43mbroken_barh\u001b[49m\u001b[43m(\u001b[49m\u001b[43m[\u001b[49m\u001b[43m(\u001b[49m\u001b[43mpre_start_t0\u001b[49m\u001b[43m,\u001b[49m\u001b[43m \u001b[49m\u001b[43mpre_duration_t0\u001b[49m\u001b[38;5;241;43m.\u001b[39;49m\u001b[43mdays\u001b[49m\u001b[43m)\u001b[49m\u001b[43m]\u001b[49m\u001b[43m,\u001b[49m\u001b[43m \u001b[49m\u001b[43m(\u001b[49m\u001b[38;5;241;43m0.05\u001b[39;49m\u001b[43m,\u001b[49m\u001b[43m \u001b[49m\u001b[38;5;241;43m0.3\u001b[39;49m\u001b[43m)\u001b[49m\u001b[43m,\u001b[49m\u001b[43m \u001b[49m\u001b[43mfacecolors\u001b[49m\u001b[38;5;241;43m=\u001b[39;49m\u001b[38;5;124;43m'\u001b[39;49m\u001b[38;5;124;43mlightblue\u001b[39;49m\u001b[38;5;124;43m'\u001b[39;49m\u001b[43m)\u001b[49m\n\u001b[1;32m      6\u001b[0m ax\u001b[38;5;241m.\u001b[39mbroken_barh([(pre_start_t1, pre_duration_t1\u001b[38;5;241m.\u001b[39mdays)], (\u001b[38;5;241m0.05\u001b[39m, \u001b[38;5;241m0.3\u001b[39m), facecolors\u001b[38;5;241m=\u001b[39m\u001b[38;5;124m'\u001b[39m\u001b[38;5;124mmoccasin\u001b[39m\u001b[38;5;124m'\u001b[39m)\n\u001b[1;32m      9\u001b[0m ax\u001b[38;5;241m.\u001b[39mbroken_barh([(post_start_t0, post_duration_t0\u001b[38;5;241m.\u001b[39mdays)], (\u001b[38;5;241m0.65\u001b[39m, \u001b[38;5;241m0.3\u001b[39m), facecolors\u001b[38;5;241m=\u001b[39m\u001b[38;5;124m'\u001b[39m\u001b[38;5;124mlightblue\u001b[39m\u001b[38;5;124m'\u001b[39m)\n",
      "File \u001b[0;32m/Library/Frameworks/Python.framework/Versions/3.12/lib/python3.12/site-packages/matplotlib/__init__.py:1465\u001b[0m, in \u001b[0;36m_preprocess_data.<locals>.inner\u001b[0;34m(ax, data, *args, **kwargs)\u001b[0m\n\u001b[1;32m   1462\u001b[0m \u001b[38;5;129m@functools\u001b[39m\u001b[38;5;241m.\u001b[39mwraps(func)\n\u001b[1;32m   1463\u001b[0m \u001b[38;5;28;01mdef\u001b[39;00m \u001b[38;5;21minner\u001b[39m(ax, \u001b[38;5;241m*\u001b[39margs, data\u001b[38;5;241m=\u001b[39m\u001b[38;5;28;01mNone\u001b[39;00m, \u001b[38;5;241m*\u001b[39m\u001b[38;5;241m*\u001b[39mkwargs):\n\u001b[1;32m   1464\u001b[0m     \u001b[38;5;28;01mif\u001b[39;00m data \u001b[38;5;129;01mis\u001b[39;00m \u001b[38;5;28;01mNone\u001b[39;00m:\n\u001b[0;32m-> 1465\u001b[0m         \u001b[38;5;28;01mreturn\u001b[39;00m \u001b[43mfunc\u001b[49m\u001b[43m(\u001b[49m\u001b[43max\u001b[49m\u001b[43m,\u001b[49m\u001b[43m \u001b[49m\u001b[38;5;241;43m*\u001b[39;49m\u001b[38;5;28;43mmap\u001b[39;49m\u001b[43m(\u001b[49m\u001b[43msanitize_sequence\u001b[49m\u001b[43m,\u001b[49m\u001b[43m \u001b[49m\u001b[43margs\u001b[49m\u001b[43m)\u001b[49m\u001b[43m,\u001b[49m\u001b[43m \u001b[49m\u001b[38;5;241;43m*\u001b[39;49m\u001b[38;5;241;43m*\u001b[39;49m\u001b[43mkwargs\u001b[49m\u001b[43m)\u001b[49m\n\u001b[1;32m   1467\u001b[0m     bound \u001b[38;5;241m=\u001b[39m new_sig\u001b[38;5;241m.\u001b[39mbind(ax, \u001b[38;5;241m*\u001b[39margs, \u001b[38;5;241m*\u001b[39m\u001b[38;5;241m*\u001b[39mkwargs)\n\u001b[1;32m   1468\u001b[0m     auto_label \u001b[38;5;241m=\u001b[39m (bound\u001b[38;5;241m.\u001b[39marguments\u001b[38;5;241m.\u001b[39mget(label_namer)\n\u001b[1;32m   1469\u001b[0m                   \u001b[38;5;129;01mor\u001b[39;00m bound\u001b[38;5;241m.\u001b[39mkwargs\u001b[38;5;241m.\u001b[39mget(label_namer))\n",
      "File \u001b[0;32m/Library/Frameworks/Python.framework/Versions/3.12/lib/python3.12/site-packages/matplotlib/axes/_axes.py:2928\u001b[0m, in \u001b[0;36mAxes.broken_barh\u001b[0;34m(self, xranges, yrange, **kwargs)\u001b[0m\n\u001b[1;32m   2924\u001b[0m     \u001b[38;5;28;01mexcept\u001b[39;00m \u001b[38;5;167;01mException\u001b[39;00m:\n\u001b[1;32m   2925\u001b[0m         \u001b[38;5;28;01mraise\u001b[39;00m \u001b[38;5;167;01mValueError\u001b[39;00m(\n\u001b[1;32m   2926\u001b[0m             \u001b[38;5;124m\"\u001b[39m\u001b[38;5;124meach range in xrange must be a sequence with two \u001b[39m\u001b[38;5;124m\"\u001b[39m\n\u001b[1;32m   2927\u001b[0m             \u001b[38;5;124m\"\u001b[39m\u001b[38;5;124melements (i.e. xrange must be an (N, 2) array)\u001b[39m\u001b[38;5;124m\"\u001b[39m) \u001b[38;5;28;01mfrom\u001b[39;00m \u001b[38;5;28;01mNone\u001b[39;00m\n\u001b[0;32m-> 2928\u001b[0m     x0, x1 \u001b[38;5;241m=\u001b[39m \u001b[38;5;28mself\u001b[39m\u001b[38;5;241m.\u001b[39mconvert_xunits((x0, \u001b[43mx0\u001b[49m\u001b[43m \u001b[49m\u001b[38;5;241;43m+\u001b[39;49m\u001b[43m \u001b[49m\u001b[43mdx\u001b[49m))\n\u001b[1;32m   2929\u001b[0m     vertices\u001b[38;5;241m.\u001b[39mappend([(x0, y0), (x0, y1), (x1, y1), (x1, y0)])\n\u001b[1;32m   2931\u001b[0m col \u001b[38;5;241m=\u001b[39m mcoll\u001b[38;5;241m.\u001b[39mPolyCollection(np\u001b[38;5;241m.\u001b[39marray(vertices), \u001b[38;5;241m*\u001b[39m\u001b[38;5;241m*\u001b[39mkwargs)\n",
      "File \u001b[0;32mtimestamps.pyx:466\u001b[0m, in \u001b[0;36mpandas._libs.tslibs.timestamps._Timestamp.__add__\u001b[0;34m()\u001b[0m\n",
      "\u001b[0;31mTypeError\u001b[0m: Addition/subtraction of integers and integer-arrays with Timestamp is no longer supported.  Instead of adding/subtracting `n`, use `n * obj.freq`"
     ]
    },
    {
     "data": {
      "image/png": "[encoded data removed]",
      "text/plain": [
       "<Figure size 1500x200 with 1 Axes>"
      ]
     },
     "metadata": {},
     "output_type": "display_data"
    }
   ],
   "source": [
    "fig, ax = plt.subplots(figsize=(15,2))\n",
    "ax.scatter(df['Baseline'], df['PrePost_new'], marker=\"|\")\n",
    "ax.scatter(df['Follow_up'], df['PrePost_new'], marker=\"|\")\n",
    "\n",
    "ax.broken_barh([(pre_start_t0, pre_duration_t0.days)], (0.05, 0.3), facecolors='lightblue')\n",
    "ax.broken_barh([(pre_start_t1, pre_duration_t1.days)], (0.05, 0.3), facecolors='moccasin')\n",
    "\n",
    "\n",
    "ax.broken_barh([(post_start_t0, post_duration_t0.days)], (0.65, 0.3), facecolors='lightblue')\n",
    "ax.broken_barh([(post_start_t1, post_duration_t1.days)], (0.65, 0.3), facecolors='moccasin')\n",
    "\n",
    "ax.broken_barh([(stay_at_home_start, stay_at_home_duration.days)], (0.4, 0.2), facecolors='thistle')\n",
    "ax.broken_barh([(stay_at_home_end, limited_bar_duration.days)], (0.4, 0.2), facecolors='lavender')\n",
    "\n",
    "ax.text(pre_start_t0, 0.10, '                                         Baseline:\\n                    From 2017-11-04 to 2019-03-16', style='oblique')\n",
    "ax.text(pre_start_t1, 0.10, '                      Follow-up:\\n     From 2019-05-06 to 2020-03-24', style='oblique')\n",
    "\n",
    "ax.text(post_start_t0, 0.70, '                                                              Baseline:\\n                                               From 2018-02-17 to 2020-03-13', style='oblique')\n",
    "ax.text(post_start_t1, 0.70, '                          Follow-up:\\n          From 2020-03-31 to 2021-04-05', style='oblique')\n",
    "\n",
    "ax.text(stay_at_home_start, 0.4, 'stay-at-home\\norders', size=8, style='oblique')\n",
    "ax.text(stay_at_home_end, 0.5, '        limited bar/restaurant capacities', style='oblique')\n",
    "\n",
    "ax.axvline(x = date(2020, 3, 13), color = 'red', linestyle = '--', alpha = 0.5)\n",
    "\n",
    "\n",
    "ax.annotate('2020-03-13\\nNational Emergency declared by the U.S. President\\nconcerning the Novel Coronavirus Disease Outbreak', \n",
    "            xy=(date(2020, 3, 13), 0), xytext=(date(2020, 3, 13),-0.6),\n",
    "            color='black',\n",
    "            horizontalalignment=\"center\",\n",
    "            arrowprops=dict(facecolor='black', shrink=0.05))\n",
    "\n",
    "plt.yticks([0, 0.5, 1], ['Pre-pandemic\\nCohort', 'Major COVID-related Policies\\nin Illinois', 'Post-pandemic\\nCohort']) \n",
    "\n",
    "plt.savefig(\"figure1.svg\", format=\"svg\", bbox_inches = 'tight', dpi=1800)\n",
    "plt.show()"
   ]
  },
  {
   "cell_type": "code",
   "execution_count": null,
   "id": "53ebb87d",
   "metadata": {},
   "outputs": [],
   "source": []
  }
 ],
 "metadata": {
  "kernelspec": {
   "display_name": "Python 3 (ipykernel)",
   "language": "python",
   "name": "python3"
  },
  "language_info": {
   "codemirror_mode": {
    "name": "ipython",
    "version": 3
   },
   "file_extension": ".py",
   "mimetype": "text/x-python",
   "name": "python",
   "nbconvert_exporter": "python",
   "pygments_lexer": "ipython3",
   "version": "3.12.0"
  }
 },
 "nbformat": 4,
 "nbformat_minor": 5
}
