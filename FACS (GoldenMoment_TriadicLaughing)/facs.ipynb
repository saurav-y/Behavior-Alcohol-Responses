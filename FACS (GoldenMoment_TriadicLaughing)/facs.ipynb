{
 "cells": [
  {
   "cell_type": "code",
   "execution_count": 1,
   "id": "90935e51-efbc-4502-9c70-9d0e9d045ad7",
   "metadata": {},
   "outputs": [],
   "source": [
    "import pandas as pd\n",
    "import numpy as np\n",
    "import os\n",
    "from tqdm import tqdm\n",
    "import time\n",
    "import traceback\n",
    "from datetime import datetime\n",
    "\n",
    "pd.set_option('display.max_rows', None)\n",
    "pd.set_option('display.max_columns', None)\n",
    "pd.options.mode.chained_assignment = None"
   ]
  },
  {
   "cell_type": "code",
   "execution_count": 2,
   "id": "ef1c5456-2000-44ba-9b55-125b828b563b",
   "metadata": {
    "editable": true,
    "slideshow": {
     "slide_type": ""
    },
    "tags": []
   },
   "outputs": [],
   "source": [
    "input_directory = \"/Users/sauravyadav/Documents/Repos/Datasets/BAR_FACS/\"\n",
    "output_directory = \"/Users/sauravyadav/Documents/Repos/Datasets/BAR_FACS/output/\""
   ]
  },
  {
   "cell_type": "code",
   "execution_count": 4,
   "id": "f86d1682-ffc0-40d6-a377-0a2412823b30",
   "metadata": {
    "editable": true,
    "slideshow": {
     "slide_type": ""
    },
    "tags": []
   },
   "outputs": [],
   "source": [
    "facs_df = pd.read_csv(f'{input_directory}/BAR_FACS_sample.csv')\n",
    "facs_df = facs_df.iloc[:,:14]"
   ]
  },
  {
   "cell_type": "code",
   "execution_count": 5,
   "id": "524ca243-cedb-4bca-bba8-346a85dc7050",
   "metadata": {},
   "outputs": [
    {
     "data": {
      "text/html": [
       "<div>\n",
       "<style scoped>\n",
       "    .dataframe tbody tr th:only-of-type {\n",
       "        vertical-align: middle;\n",
       "    }\n",
       "\n",
       "    .dataframe tbody tr th {\n",
       "        vertical-align: top;\n",
       "    }\n",
       "\n",
       "    .dataframe thead th {\n",
       "        text-align: right;\n",
       "    }\n",
       "</style>\n",
       "<table border=\"1\" class=\"dataframe\">\n",
       "  <thead>\n",
       "    <tr style=\"text-align: right;\">\n",
       "      <th></th>\n",
       "      <th>Group_ID</th>\n",
       "      <th>Frame</th>\n",
       "      <th>Sub_ID</th>\n",
       "      <th>AU6</th>\n",
       "      <th>AU9</th>\n",
       "      <th>AU12</th>\n",
       "      <th>AU14</th>\n",
       "      <th>AU15</th>\n",
       "      <th>AU20</th>\n",
       "      <th>Speak</th>\n",
       "      <th>Sip</th>\n",
       "      <th>Sip_Fake</th>\n",
       "      <th>Cannot_Code</th>\n",
       "      <th>Laugh</th>\n",
       "    </tr>\n",
       "  </thead>\n",
       "  <tbody>\n",
       "    <tr>\n",
       "      <th>72258</th>\n",
       "      <td>1</td>\n",
       "      <td>24087</td>\n",
       "      <td>2007</td>\n",
       "      <td>0</td>\n",
       "      <td>0</td>\n",
       "      <td>0</td>\n",
       "      <td>0</td>\n",
       "      <td>0</td>\n",
       "      <td>0</td>\n",
       "      <td>0</td>\n",
       "      <td>0</td>\n",
       "      <td>0</td>\n",
       "      <td>0</td>\n",
       "      <td>0</td>\n",
       "    </tr>\n",
       "  </tbody>\n",
       "</table>\n",
       "</div>"
      ],
      "text/plain": [
       "       Group_ID  Frame  Sub_ID  AU6  AU9  AU12  AU14  AU15  AU20  Speak  Sip  \\\n",
       "72258         1  24087    2007    0    0     0     0     0     0      0    0   \n",
       "\n",
       "       Sip_Fake  Cannot_Code  Laugh  \n",
       "72258         0            0      0  "
      ]
     },
     "execution_count": 5,
     "metadata": {},
     "output_type": "execute_result"
    }
   ],
   "source": [
    "facs_df.sample()"
   ]
  },
  {
   "cell_type": "code",
   "execution_count": 4,
   "id": "fd113b84-6d78-4cee-9650-d6e318e346cd",
   "metadata": {},
   "outputs": [],
   "source": [
    "facs_df['Duchenne_smile'] = facs_df['AU6'] & facs_df['AU12']"
   ]
  },
  {
   "cell_type": "code",
   "execution_count": 5,
   "id": "bf8e39d2-009a-4023-8bb8-6d634aa099f1",
   "metadata": {},
   "outputs": [],
   "source": [
    "facs_df['Duchenne_smile_sum'] = facs_df.groupby(['Group_ID', 'Frame'])['Duchenne_smile'].transform('sum')\n",
    "facs_df['GoldenMoment'] = (facs_df['Duchenne_smile_sum'] == 3).astype(int)\n",
    "\n",
    "facs_df['Triadic_laughing_sum'] = facs_df.groupby(['Group_ID', 'Frame'])['Laugh'].transform('sum')\n",
    "facs_df['TriadicLaughing'] = (facs_df['Triadic_laughing_sum'] == 3).astype(int)\n",
    "\n",
    "facs_df = facs_df.drop(columns = ['Duchenne_smile_sum', 'Triadic_laughing_sum'])"
   ]
  },
  {
   "cell_type": "code",
   "execution_count": 19,
   "id": "85b5fc12-44d0-413b-9554-5237db7e8303",
   "metadata": {},
   "outputs": [
    {
     "data": {
      "text/plain": [
       "Index(['Group_ID', 'Frame', 'Sub_ID', 'AU6', 'AU9', 'AU12', 'AU14', 'AU15',\n",
       "       'AU20', 'Speak', 'Sip', 'Sip_Fake', 'Cannot_Code', 'Laugh',\n",
       "       'Duchenne_smile', 'GoldenMoment', 'TriadicLaughing'],\n",
       "      dtype='object')"
      ]
     },
     "execution_count": 19,
     "metadata": {},
     "output_type": "execute_result"
    }
   ],
   "source": [
    "facs_df.columns"
   ]
  },
  {
   "cell_type": "code",
   "execution_count": 6,
   "id": "0b2422e6-dce0-41b3-8367-c65e2d471168",
   "metadata": {},
   "outputs": [],
   "source": [
    "facs_df.to_csv(f'{output_directory}/BAR_FACS_V2.csv', index = False)"
   ]
  },
  {
   "cell_type": "code",
   "execution_count": 7,
   "id": "260330f3-38cc-419d-a8cd-a19dc7e1a28b",
   "metadata": {},
   "outputs": [],
   "source": [
    "facs_grouped_df = facs_df.groupby(['Group_ID', 'Frame']).agg({\n",
    "                                    'GoldenMoment': 'first',\n",
    "                                    'TriadicLaughing': 'first'\n",
    "                                }).reset_index()"
   ]
  },
  {
   "cell_type": "code",
   "execution_count": 8,
   "id": "cc68fd9b-997b-43db-a790-b3e578ea5ce6",
   "metadata": {},
   "outputs": [],
   "source": [
    "facs_grouped_df['Minute'] = ((facs_grouped_df['Frame']) // 1800) + 1"
   ]
  },
  {
   "cell_type": "code",
   "execution_count": 9,
   "id": "b6a9f48c-c75a-4cba-8402-dd88c5f7d516",
   "metadata": {},
   "outputs": [],
   "source": [
    "facs_grouped_df = facs_grouped_df.groupby(['Group_ID', 'Minute']).agg(\n",
    "    GoldenMoment_Frames=('GoldenMoment', 'sum'),\n",
    "    TriadicLaughing_Frames=('TriadicLaughing', 'sum')\n",
    ").reset_index()"
   ]
  },
  {
   "cell_type": "code",
   "execution_count": 10,
   "id": "4b7b9184-befb-42d0-8f68-0a36e2ecc0f6",
   "metadata": {},
   "outputs": [],
   "source": [
    "facs_grouped_df['GoldenMoment_Seconds'] = (facs_grouped_df['GoldenMoment_Frames']/30).round(2)\n",
    "facs_grouped_df['TriadicLaughing_Seconds'] = (facs_grouped_df['TriadicLaughing_Frames']/30).round(2)"
   ]
  },
  {
   "cell_type": "code",
   "execution_count": 11,
   "id": "1ef201ea-7189-456a-bcab-8c59c3013e87",
   "metadata": {},
   "outputs": [],
   "source": [
    "facs_grouped_df.to_csv(f'{output_directory}/MinuteBinnedResults.csv', index = False)"
   ]
  },
  {
   "cell_type": "code",
   "execution_count": 12,
   "id": "b10927f2-cbab-47a2-9196-098110795ed3",
   "metadata": {},
   "outputs": [
    {
     "data": {
      "text/html": [
       "<div>\n",
       "<style scoped>\n",
       "    .dataframe tbody tr th:only-of-type {\n",
       "        vertical-align: middle;\n",
       "    }\n",
       "\n",
       "    .dataframe tbody tr th {\n",
       "        vertical-align: top;\n",
       "    }\n",
       "\n",
       "    .dataframe thead th {\n",
       "        text-align: right;\n",
       "    }\n",
       "</style>\n",
       "<table border=\"1\" class=\"dataframe\">\n",
       "  <thead>\n",
       "    <tr style=\"text-align: right;\">\n",
       "      <th></th>\n",
       "      <th>Group_ID</th>\n",
       "      <th>Minute</th>\n",
       "      <th>GoldenMoment_Frames</th>\n",
       "      <th>TriadicLaughing_Frames</th>\n",
       "      <th>GoldenMoment_Seconds</th>\n",
       "      <th>TriadicLaughing_Seconds</th>\n",
       "    </tr>\n",
       "  </thead>\n",
       "  <tbody>\n",
       "    <tr>\n",
       "      <th>0</th>\n",
       "      <td>1</td>\n",
       "      <td>1</td>\n",
       "      <td>239</td>\n",
       "      <td>0</td>\n",
       "      <td>7.97</td>\n",
       "      <td>0.0</td>\n",
       "    </tr>\n",
       "    <tr>\n",
       "      <th>1</th>\n",
       "      <td>1</td>\n",
       "      <td>2</td>\n",
       "      <td>0</td>\n",
       "      <td>0</td>\n",
       "      <td>0.00</td>\n",
       "      <td>0.0</td>\n",
       "    </tr>\n",
       "    <tr>\n",
       "      <th>2</th>\n",
       "      <td>1</td>\n",
       "      <td>3</td>\n",
       "      <td>0</td>\n",
       "      <td>0</td>\n",
       "      <td>0.00</td>\n",
       "      <td>0.0</td>\n",
       "    </tr>\n",
       "    <tr>\n",
       "      <th>3</th>\n",
       "      <td>1</td>\n",
       "      <td>4</td>\n",
       "      <td>0</td>\n",
       "      <td>0</td>\n",
       "      <td>0.00</td>\n",
       "      <td>0.0</td>\n",
       "    </tr>\n",
       "    <tr>\n",
       "      <th>4</th>\n",
       "      <td>1</td>\n",
       "      <td>5</td>\n",
       "      <td>0</td>\n",
       "      <td>0</td>\n",
       "      <td>0.00</td>\n",
       "      <td>0.0</td>\n",
       "    </tr>\n",
       "  </tbody>\n",
       "</table>\n",
       "</div>"
      ],
      "text/plain": [
       "   Group_ID  Minute  GoldenMoment_Frames  TriadicLaughing_Frames  \\\n",
       "0         1       1                  239                       0   \n",
       "1         1       2                    0                       0   \n",
       "2         1       3                    0                       0   \n",
       "3         1       4                    0                       0   \n",
       "4         1       5                    0                       0   \n",
       "\n",
       "   GoldenMoment_Seconds  TriadicLaughing_Seconds  \n",
       "0                  7.97                      0.0  \n",
       "1                  0.00                      0.0  \n",
       "2                  0.00                      0.0  \n",
       "3                  0.00                      0.0  \n",
       "4                  0.00                      0.0  "
      ]
     },
     "execution_count": 12,
     "metadata": {},
     "output_type": "execute_result"
    }
   ],
   "source": [
    "facs_grouped_df.head()"
   ]
  },
  {
   "cell_type": "code",
   "execution_count": 13,
   "id": "3975b26e-c7cd-4dc9-b610-b6e77fc3e038",
   "metadata": {},
   "outputs": [],
   "source": [
    "# Select the first three rows for each 'Group_ID'\n",
    "first_three = facs_grouped_df.groupby('Group_ID').head(3)\n",
    "\n",
    "# Select the remaining rows\n",
    "remaining = facs_grouped_df[~facs_grouped_df.index.isin(first_three.index)]\n",
    "\n",
    "# Combine the first three rows for each 'Group_ID' and concatenate with the remaining rows\n",
    "# result = pd.concat([first_three.groupby('Group_ID').sum().reset_index(), remaining])"
   ]
  },
  {
   "cell_type": "code",
   "execution_count": 14,
   "id": "ebde60d0-dd31-4666-ab79-29abe41a189c",
   "metadata": {},
   "outputs": [],
   "source": [
    "agg_funcs = {'Minute': lambda x: ','.join(map(str, x)),  # Concatenate 'Minute' with commas\n",
    "             'GoldenMoment_Frames': 'sum',\n",
    "             'TriadicLaughing_Frames': 'sum',\n",
    "             'GoldenMoment_Seconds': 'sum',\n",
    "             'TriadicLaughing_Seconds': 'sum'}\n",
    "\n",
    "first_three_collapsed = first_three.groupby('Group_ID').agg(agg_funcs).reset_index()"
   ]
  },
  {
   "cell_type": "code",
   "execution_count": 15,
   "id": "8d52f605-ca0a-409e-8127-005ff3c8c5dc",
   "metadata": {},
   "outputs": [],
   "source": [
    "facs_custom_grouped_df = pd.concat([first_three_collapsed, remaining])\n",
    "facs_custom_grouped_df['Minute_Sort_Priority'] = facs_custom_grouped_df['Minute'].replace('1,2,3', 1)\n",
    "facs_custom_grouped_df = facs_custom_grouped_df.sort_values(by=['Group_ID', 'Minute_Sort_Priority'])\n",
    "facs_custom_grouped_df = facs_custom_grouped_df.drop(columns = ['Minute_Sort_Priority']).reset_index(drop=True)"
   ]
  },
  {
   "cell_type": "code",
   "execution_count": 16,
   "id": "0daac7eb-01f0-4924-ade9-188681df7f98",
   "metadata": {},
   "outputs": [
    {
     "data": {
      "text/html": [
       "<div>\n",
       "<style scoped>\n",
       "    .dataframe tbody tr th:only-of-type {\n",
       "        vertical-align: middle;\n",
       "    }\n",
       "\n",
       "    .dataframe tbody tr th {\n",
       "        vertical-align: top;\n",
       "    }\n",
       "\n",
       "    .dataframe thead th {\n",
       "        text-align: right;\n",
       "    }\n",
       "</style>\n",
       "<table border=\"1\" class=\"dataframe\">\n",
       "  <thead>\n",
       "    <tr style=\"text-align: right;\">\n",
       "      <th></th>\n",
       "      <th>Group_ID</th>\n",
       "      <th>Minute</th>\n",
       "      <th>GoldenMoment_Frames</th>\n",
       "      <th>TriadicLaughing_Frames</th>\n",
       "      <th>GoldenMoment_Seconds</th>\n",
       "      <th>TriadicLaughing_Seconds</th>\n",
       "    </tr>\n",
       "  </thead>\n",
       "  <tbody>\n",
       "    <tr>\n",
       "      <th>0</th>\n",
       "      <td>1</td>\n",
       "      <td>1,2,3</td>\n",
       "      <td>239</td>\n",
       "      <td>0</td>\n",
       "      <td>7.97</td>\n",
       "      <td>0.00</td>\n",
       "    </tr>\n",
       "    <tr>\n",
       "      <th>1</th>\n",
       "      <td>1</td>\n",
       "      <td>4</td>\n",
       "      <td>0</td>\n",
       "      <td>0</td>\n",
       "      <td>0.00</td>\n",
       "      <td>0.00</td>\n",
       "    </tr>\n",
       "    <tr>\n",
       "      <th>2</th>\n",
       "      <td>1</td>\n",
       "      <td>5</td>\n",
       "      <td>0</td>\n",
       "      <td>0</td>\n",
       "      <td>0.00</td>\n",
       "      <td>0.00</td>\n",
       "    </tr>\n",
       "    <tr>\n",
       "      <th>3</th>\n",
       "      <td>1</td>\n",
       "      <td>6</td>\n",
       "      <td>0</td>\n",
       "      <td>0</td>\n",
       "      <td>0.00</td>\n",
       "      <td>0.00</td>\n",
       "    </tr>\n",
       "    <tr>\n",
       "      <th>4</th>\n",
       "      <td>1</td>\n",
       "      <td>7</td>\n",
       "      <td>0</td>\n",
       "      <td>0</td>\n",
       "      <td>0.00</td>\n",
       "      <td>0.00</td>\n",
       "    </tr>\n",
       "    <tr>\n",
       "      <th>5</th>\n",
       "      <td>1</td>\n",
       "      <td>8</td>\n",
       "      <td>0</td>\n",
       "      <td>0</td>\n",
       "      <td>0.00</td>\n",
       "      <td>0.00</td>\n",
       "    </tr>\n",
       "    <tr>\n",
       "      <th>6</th>\n",
       "      <td>1</td>\n",
       "      <td>9</td>\n",
       "      <td>21</td>\n",
       "      <td>0</td>\n",
       "      <td>0.70</td>\n",
       "      <td>0.00</td>\n",
       "    </tr>\n",
       "    <tr>\n",
       "      <th>7</th>\n",
       "      <td>1</td>\n",
       "      <td>10</td>\n",
       "      <td>0</td>\n",
       "      <td>0</td>\n",
       "      <td>0.00</td>\n",
       "      <td>0.00</td>\n",
       "    </tr>\n",
       "    <tr>\n",
       "      <th>8</th>\n",
       "      <td>1</td>\n",
       "      <td>11</td>\n",
       "      <td>24</td>\n",
       "      <td>20</td>\n",
       "      <td>0.80</td>\n",
       "      <td>0.67</td>\n",
       "    </tr>\n",
       "    <tr>\n",
       "      <th>9</th>\n",
       "      <td>1</td>\n",
       "      <td>12</td>\n",
       "      <td>0</td>\n",
       "      <td>0</td>\n",
       "      <td>0.00</td>\n",
       "      <td>0.00</td>\n",
       "    </tr>\n",
       "    <tr>\n",
       "      <th>10</th>\n",
       "      <td>1</td>\n",
       "      <td>13</td>\n",
       "      <td>0</td>\n",
       "      <td>0</td>\n",
       "      <td>0.00</td>\n",
       "      <td>0.00</td>\n",
       "    </tr>\n",
       "    <tr>\n",
       "      <th>11</th>\n",
       "      <td>1</td>\n",
       "      <td>14</td>\n",
       "      <td>0</td>\n",
       "      <td>0</td>\n",
       "      <td>0.00</td>\n",
       "      <td>0.00</td>\n",
       "    </tr>\n",
       "    <tr>\n",
       "      <th>12</th>\n",
       "      <td>1</td>\n",
       "      <td>15</td>\n",
       "      <td>0</td>\n",
       "      <td>0</td>\n",
       "      <td>0.00</td>\n",
       "      <td>0.00</td>\n",
       "    </tr>\n",
       "    <tr>\n",
       "      <th>13</th>\n",
       "      <td>1</td>\n",
       "      <td>16</td>\n",
       "      <td>0</td>\n",
       "      <td>0</td>\n",
       "      <td>0.00</td>\n",
       "      <td>0.00</td>\n",
       "    </tr>\n",
       "    <tr>\n",
       "      <th>14</th>\n",
       "      <td>1</td>\n",
       "      <td>17</td>\n",
       "      <td>0</td>\n",
       "      <td>0</td>\n",
       "      <td>0.00</td>\n",
       "      <td>0.00</td>\n",
       "    </tr>\n",
       "    <tr>\n",
       "      <th>15</th>\n",
       "      <td>1</td>\n",
       "      <td>18</td>\n",
       "      <td>0</td>\n",
       "      <td>0</td>\n",
       "      <td>0.00</td>\n",
       "      <td>0.00</td>\n",
       "    </tr>\n",
       "  </tbody>\n",
       "</table>\n",
       "</div>"
      ],
      "text/plain": [
       "    Group_ID Minute  GoldenMoment_Frames  TriadicLaughing_Frames  \\\n",
       "0          1  1,2,3                  239                       0   \n",
       "1          1      4                    0                       0   \n",
       "2          1      5                    0                       0   \n",
       "3          1      6                    0                       0   \n",
       "4          1      7                    0                       0   \n",
       "5          1      8                    0                       0   \n",
       "6          1      9                   21                       0   \n",
       "7          1     10                    0                       0   \n",
       "8          1     11                   24                      20   \n",
       "9          1     12                    0                       0   \n",
       "10         1     13                    0                       0   \n",
       "11         1     14                    0                       0   \n",
       "12         1     15                    0                       0   \n",
       "13         1     16                    0                       0   \n",
       "14         1     17                    0                       0   \n",
       "15         1     18                    0                       0   \n",
       "\n",
       "    GoldenMoment_Seconds  TriadicLaughing_Seconds  \n",
       "0                   7.97                     0.00  \n",
       "1                   0.00                     0.00  \n",
       "2                   0.00                     0.00  \n",
       "3                   0.00                     0.00  \n",
       "4                   0.00                     0.00  \n",
       "5                   0.00                     0.00  \n",
       "6                   0.70                     0.00  \n",
       "7                   0.00                     0.00  \n",
       "8                   0.80                     0.67  \n",
       "9                   0.00                     0.00  \n",
       "10                  0.00                     0.00  \n",
       "11                  0.00                     0.00  \n",
       "12                  0.00                     0.00  \n",
       "13                  0.00                     0.00  \n",
       "14                  0.00                     0.00  \n",
       "15                  0.00                     0.00  "
      ]
     },
     "execution_count": 16,
     "metadata": {},
     "output_type": "execute_result"
    }
   ],
   "source": [
    "facs_custom_grouped_df"
   ]
  },
  {
   "cell_type": "code",
   "execution_count": 17,
   "id": "4d8f947b-fca1-4129-9344-2de085730f58",
   "metadata": {},
   "outputs": [],
   "source": [
    "facs_custom_grouped_df.to_csv(f'{output_directory}/CustomBinnedResults.csv', index = False)"
   ]
  }
 ],
 "metadata": {
  "kernelspec": {
   "display_name": "Python 3 (ipykernel)",
   "language": "python",
   "name": "python3"
  },
  "language_info": {
   "codemirror_mode": {
    "name": "ipython",
    "version": 3
   },
   "file_extension": ".py",
   "mimetype": "text/x-python",
   "name": "python",
   "nbconvert_exporter": "python",
   "pygments_lexer": "ipython3",
   "version": "3.12.0"
  }
 },
 "nbformat": 4,
 "nbformat_minor": 5
}
