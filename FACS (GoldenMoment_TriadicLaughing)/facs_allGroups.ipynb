{
 "cells": [
  {
   "cell_type": "code",
   "execution_count": 1,
   "id": "a54d50a1-c4f9-46be-97f5-7767e241fb24",
   "metadata": {},
   "outputs": [],
   "source": [
    "import pandas as pd\n",
    "import numpy as np\n",
    "import os\n",
    "from tqdm import tqdm\n",
    "import time\n",
    "import traceback\n",
    "from datetime import datetime\n",
    "from tqdm import tqdm\n",
    "\n",
    "pd.set_option('display.max_rows', None)\n",
    "pd.set_option('display.max_columns', None)\n",
    "pd.options.mode.chained_assignment = None"
   ]
  },
  {
   "cell_type": "code",
   "execution_count": 2,
   "id": "c28b692a-dcc7-4fc2-a490-cb7a0317cdd7",
   "metadata": {},
   "outputs": [],
   "source": [
    "input_directory = \"/Users/sauravyadav/Documents/Repos/Datasets/BAR_FACS/All_Groups\"\n",
    "output_directory = \"/Users/sauravyadav/Documents/Repos/Datasets/BAR_FACS/output/\""
   ]
  },
  {
   "cell_type": "code",
   "execution_count": 3,
   "id": "4c303e2c-07de-48e2-b84a-f93a887b327d",
   "metadata": {},
   "outputs": [
    {
     "name": "stderr",
     "output_type": "stream",
     "text": [
      "100%|█████████████████████████████████████████| 127/127 [00:10<00:00, 11.78it/s]\n"
     ]
    }
   ],
   "source": [
    "length_data = []\n",
    "mdf_list = []\n",
    "mdf_grouped_list = []\n",
    "group_sub = []\n",
    "files = list(os.listdir(input_directory))\n",
    "for filename in tqdm(files):\n",
    "    if '.csv' not in filename:\n",
    "        continue\n",
    "\n",
    "    group = filename.split('_')[0]\n",
    "        \n",
    "    df = pd.read_csv(f'{input_directory}/{filename}')\n",
    "    # display(df.head())\n",
    "\n",
    "    length_info_dict = {'Filename' : filename, 'Original Length':len(df)}\n",
    "    df = df[:188811]\n",
    "    length_info_dict['Final Length'] = len(df)\n",
    "    length_data.append(length_info_dict)\n",
    "    \n",
    "    if len(df)<188811:\n",
    "        print(f'Skipping file (length issue): {filename}')\n",
    "        continue\n",
    "\n",
    "    df = df.rename(columns = {'Unnamed: 0': 'Sub_ID', 'Unnamed: 1' : 'Sub_ID', 'SubID': 'Sub_ID', '6':'AU6', '12': 'AU12', '1':'Frame', '88' : 'Laugh'})\n",
    "    # print(df.columns)\n",
    "\n",
    "    df['AU6'] = df['AU6'].astype(int)\n",
    "    df['AU12'] = df['AU12'].astype(int)\n",
    "\n",
    "    try:\n",
    "        df['Duchenne_smile'] = df['AU6'] & df['AU12']\n",
    "        \n",
    "    except Exception as e:\n",
    "        display(df.head())\n",
    "        display(df.tail())\n",
    "        print(e)\n",
    "        continue\n",
    "        \n",
    "    df['Group_ID'] = group\n",
    "    df = df[['Group_ID','Frame','Sub_ID','Duchenne_smile', 'Laugh']]\n",
    "\n",
    "    for sub in df.Sub_ID.unique():\n",
    "        group_sub.append({'Group_ID': group,'Sub_ID': sub})\n",
    "\n",
    "    df['Duchenne_smile_sum'] = df.groupby(['Group_ID', 'Frame'])['Duchenne_smile'].transform('sum')\n",
    "    df['GoldenMoment'] = (df['Duchenne_smile_sum'] == 3).astype(int)\n",
    "\n",
    "    df['Triadic_laughing_sum'] = df.groupby(['Group_ID', 'Frame'])['Laugh'].transform('sum')\n",
    "    df['TriadicLaughing'] = (df['Triadic_laughing_sum'] == 3).astype(int)\n",
    "\n",
    "    df = df.drop(columns = ['Duchenne_smile_sum', 'Triadic_laughing_sum'])\n",
    "\n",
    "    df_grouped = df.groupby(['Group_ID', 'Frame']).agg({\n",
    "                                    'GoldenMoment': 'first',\n",
    "                                    'TriadicLaughing': 'first'\n",
    "                                }).reset_index()\n",
    "\n",
    "    df_grouped['Minute'] = ((df_grouped['Frame']) // 1800) + 1\n",
    "\n",
    "    df_grouped = df_grouped.groupby(['Group_ID', 'Minute']).agg(\n",
    "    GoldenMoment_Frames=('GoldenMoment', 'sum'),\n",
    "    TriadicLaughing_Frames=('TriadicLaughing', 'sum')\n",
    "    ).reset_index()\n",
    "\n",
    "    df_grouped['GoldenMoment_Seconds'] = (df_grouped['GoldenMoment_Frames']/30).round(2)\n",
    "    df_grouped['TriadicLaughing_Seconds'] = (df_grouped['TriadicLaughing_Frames']/30).round(2)\n",
    "    \n",
    "    # display(df_grouped.head())\n",
    "    \n",
    "    mdf_list.append(df_grouped)\n",
    "\n",
    "    # Select the first three rows for each 'Group_ID'\n",
    "    first_three = df_grouped.groupby('Group_ID').head(3)\n",
    "\n",
    "    # Select the remaining rows\n",
    "    remaining = df_grouped[~df_grouped.index.isin(first_three.index)]\n",
    "\n",
    "    agg_funcs = {'Minute': lambda x: ','.join(map(str, x)),  # Concatenate 'Minute' with commas\n",
    "             'GoldenMoment_Frames': 'sum',\n",
    "             'TriadicLaughing_Frames': 'sum',\n",
    "             'GoldenMoment_Seconds': 'sum',\n",
    "             'TriadicLaughing_Seconds': 'sum'}\n",
    "\n",
    "    first_three_collapsed = first_three.groupby('Group_ID').agg(agg_funcs).reset_index()\n",
    "\n",
    "    facs_custom_grouped_df = pd.concat([first_three_collapsed, remaining])\n",
    "    facs_custom_grouped_df['Minute_Sort_Priority'] = facs_custom_grouped_df['Minute'].replace('1,2,3', 1)\n",
    "    facs_custom_grouped_df = facs_custom_grouped_df.sort_values(by=['Group_ID', 'Minute_Sort_Priority']).reset_index(drop=True)\n",
    "    # facs_custom_grouped_df = facs_custom_grouped_df.drop(columns = ['Minute_Sort_Priority'])\n",
    "\n",
    "    # display(facs_custom_grouped_df)\n",
    "    mdf_grouped_list.append(facs_custom_grouped_df)"
   ]
  },
  {
   "cell_type": "code",
   "execution_count": 4,
   "id": "341818e4-708c-4b80-bbd1-4f9df9f78094",
   "metadata": {},
   "outputs": [],
   "source": [
    "gsub_df = pd.DataFrame(group_sub)"
   ]
  },
  {
   "cell_type": "code",
   "execution_count": 5,
   "id": "e09520a2-6d5d-4839-9523-c122afb32f14",
   "metadata": {},
   "outputs": [],
   "source": [
    "minute_df = pd.concat(mdf_list)\n",
    "custom_df = pd.concat(mdf_grouped_list)"
   ]
  },
  {
   "cell_type": "code",
   "execution_count": 6,
   "id": "7e0987c3-292a-4215-9549-32f469942628",
   "metadata": {},
   "outputs": [],
   "source": [
    "minute_df = minute_df.merge(gsub_df, on = ['Group_ID'], how = 'left')\n",
    "custom_df = custom_df.merge(gsub_df, on = ['Group_ID'], how = 'left')"
   ]
  },
  {
   "cell_type": "code",
   "execution_count": 7,
   "id": "00d5d086-9046-48ba-aa99-0015304fa1cb",
   "metadata": {},
   "outputs": [],
   "source": [
    "minute_df['Group_ID'] = minute_df['Group_ID'].astype(int)\n",
    "minute_df['Minute'] = minute_df['Minute'].astype(int)\n",
    "custom_df['Group_ID'] = custom_df['Group_ID'].astype(int)\n",
    "minute_df['Sub_ID'] = minute_df['Sub_ID'].astype(int)\n",
    "custom_df['Sub_ID'] = custom_df['Sub_ID'].astype(int)"
   ]
  },
  {
   "cell_type": "code",
   "execution_count": 8,
   "id": "e7531dc0-1489-400b-8547-d775d9bb4c27",
   "metadata": {},
   "outputs": [],
   "source": [
    "minute_df = minute_df[['Group_ID', 'Sub_ID',\n",
    " 'Minute',\n",
    " 'GoldenMoment_Frames',\n",
    " 'TriadicLaughing_Frames',\n",
    " 'GoldenMoment_Seconds',\n",
    " 'TriadicLaughing_Seconds'\n",
    " ]]\n",
    "custom_df = custom_df[['Group_ID', 'Sub_ID',\n",
    " 'Minute',\n",
    " 'GoldenMoment_Frames',\n",
    " 'TriadicLaughing_Frames',\n",
    " 'GoldenMoment_Seconds',\n",
    " 'TriadicLaughing_Seconds', 'Minute_Sort_Priority'\n",
    " ]]"
   ]
  },
  {
   "cell_type": "code",
   "execution_count": 9,
   "id": "f0446d32-7419-4cc2-9cd6-67081a31426a",
   "metadata": {},
   "outputs": [],
   "source": [
    "minute_df = minute_df.sort_values(by = ['Group_ID','Minute', 'Sub_ID']).reset_index(drop=True)\n",
    "minute_df.to_csv(f'{output_directory}/MinuteBinnedResults.csv', index = False)"
   ]
  },
  {
   "cell_type": "code",
   "execution_count": 10,
   "id": "445a4700-bbd1-4ea8-8973-0f11f39f0094",
   "metadata": {},
   "outputs": [],
   "source": [
    "custom_df = custom_df.sort_values(by = ['Group_ID','Minute_Sort_Priority', 'Sub_ID']).reset_index(drop=True)\n",
    "custom_df = custom_df.drop(columns=['Minute_Sort_Priority'])\n",
    "custom_df.to_csv(f'{output_directory}/CustomBinnedResults.csv', index = False)"
   ]
  },
  {
   "cell_type": "code",
   "execution_count": null,
   "id": "f307f44c-e431-4000-91d3-f74f53cfab84",
   "metadata": {},
   "outputs": [],
   "source": []
  }
 ],
 "metadata": {
  "kernelspec": {
   "display_name": "Python 3 (ipykernel)",
   "language": "python",
   "name": "python3"
  },
  "language_info": {
   "codemirror_mode": {
    "name": "ipython",
    "version": 3
   },
   "file_extension": ".py",
   "mimetype": "text/x-python",
   "name": "python",
   "nbconvert_exporter": "python",
   "pygments_lexer": "ipython3",
   "version": "3.12.0"
  }
 },
 "nbformat": 4,
 "nbformat_minor": 5
}
