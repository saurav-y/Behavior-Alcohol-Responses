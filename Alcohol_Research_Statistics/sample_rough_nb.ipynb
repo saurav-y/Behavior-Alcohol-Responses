{
 "cells": [
  {
   "cell_type": "code",
   "execution_count": 1,
   "id": "daf551d2",
   "metadata": {},
   "outputs": [],
   "source": [
    "import pandas as pd\n",
    "import numpy as np\n",
    "pd.set_option('display.max_rows', None)\n",
    "pd.set_option('display.max_columns', None)"
   ]
  },
  {
   "cell_type": "code",
   "execution_count": 19,
   "id": "e9102fa6",
   "metadata": {},
   "outputs": [
    {
     "name": "stderr",
     "output_type": "stream",
     "text": [
      "C:\\Users\\Saurav\\AppData\\Local\\Temp\\ipykernel_14024\\283905036.py:1: DtypeWarning: Columns (9,10,11,12,13,47,62,63,64,65,66,100) have mixed types. Specify dtype option on import or set low_memory=False.\n",
      "  df = pd.read_csv(\"D:\\Program Files\\Documents\\CMU\\Alcohol_Research\\input_data_v2\\88_A2574_B2567_C2541.csv\")\n"
     ]
    }
   ],
   "source": [
    "df = pd.read_csv(\"D:\\Program Files\\Documents\\CMU\\Alcohol_Research\\input_data_v2\\88_A2574_B2567_C2541.csv\")"
   ]
  },
  {
   "cell_type": "code",
   "execution_count": 20,
   "id": "6c924816",
   "metadata": {},
   "outputs": [],
   "source": [
    "df.replace(' ', np.nan, inplace=True)\n",
    "rows_with_none = df[df.isna().any(axis=1)]"
   ]
  },
  {
   "cell_type": "code",
   "execution_count": 1,
   "id": "a26df4a5",
   "metadata": {},
   "outputs": [],
   "source": [
    "s = \"this is a string\""
   ]
  },
  {
   "cell_type": "code",
   "execution_count": 3,
   "id": "dec66608",
   "metadata": {},
   "outputs": [
    {
     "ename": "TypeError",
     "evalue": "'str' object does not support item assignment",
     "output_type": "error",
     "traceback": [
      "\u001b[1;31m---------------------------------------------------------------------------\u001b[0m",
      "\u001b[1;31mTypeError\u001b[0m                                 Traceback (most recent call last)",
      "Cell \u001b[1;32mIn[3], line 1\u001b[0m\n\u001b[1;32m----> 1\u001b[0m s[\u001b[38;5;241m2\u001b[39m] \u001b[38;5;241m=\u001b[39m \u001b[38;5;124m'\u001b[39m\u001b[38;5;124mt\u001b[39m\u001b[38;5;124m'\u001b[39m\n",
      "\u001b[1;31mTypeError\u001b[0m: 'str' object does not support item assignment"
     ]
    }
   ],
   "source": [
    "s[2] = 't'"
   ]
  },
  {
   "cell_type": "code",
   "execution_count": 4,
   "id": "efc0e9fb",
   "metadata": {},
   "outputs": [
    {
     "name": "stdout",
     "output_type": "stream",
     "text": [
      "this is a string\n"
     ]
    }
   ],
   "source": [
    "print(s)"
   ]
  },
  {
   "cell_type": "code",
   "execution_count": 1,
   "id": "8e1fd1d3",
   "metadata": {
    "tags": []
   },
   "outputs": [
    {
     "name": "stdout",
     "output_type": "stream",
     "text": [
      "80 helo 1.0 new\n"
     ]
    }
   ],
   "source": [
    "print(80,\"\"\"helo\"\"\",4/4,\"new\")"
   ]
  },
  {
   "cell_type": "code",
   "execution_count": 2,
   "id": "4ed44635-9b75-4a2f-855f-b35be4300c2b",
   "metadata": {
    "tags": []
   },
   "outputs": [
    {
     "data": {
      "text/plain": [
       "7"
      ]
     },
     "execution_count": 2,
     "metadata": {},
     "output_type": "execute_result"
    }
   ],
   "source": [
    "++7"
   ]
  },
  {
   "cell_type": "code",
   "execution_count": 4,
   "id": "8c0148cf-4996-496b-bcc3-bf502effdfe7",
   "metadata": {
    "tags": []
   },
   "outputs": [
    {
     "name": "stdout",
     "output_type": "stream",
     "text": [
      "[1, 2, 3]\n"
     ]
    }
   ],
   "source": [
    "x=[1,2]\n",
    "y=x\n",
    "x.append(3)\n",
    "print(y)"
   ]
  },
  {
   "cell_type": "code",
   "execution_count": 5,
   "id": "a4b3f320-1c58-44c4-a172-b649dcb1c57b",
   "metadata": {
    "tags": []
   },
   "outputs": [],
   "source": [
    "m = [7,3,9,1]\n",
    "m.insert(2,1)"
   ]
  },
  {
   "cell_type": "code",
   "execution_count": 6,
   "id": "44c15361-4989-4e13-b2e9-9bfb64e71dc3",
   "metadata": {
    "tags": []
   },
   "outputs": [
    {
     "data": {
      "text/plain": [
       "[7, 3, 1, 9, 1]"
      ]
     },
     "execution_count": 6,
     "metadata": {},
     "output_type": "execute_result"
    }
   ],
   "source": [
    "m"
   ]
  },
  {
   "cell_type": "code",
   "execution_count": 7,
   "id": "d80d8229-5148-4a55-9367-dcb8824eafdc",
   "metadata": {
    "tags": []
   },
   "outputs": [
    {
     "name": "stdout",
     "output_type": "stream",
     "text": [
      "3 is liess than 5\n"
     ]
    }
   ],
   "source": [
    "print(m[1],'is liess than',len(m))"
   ]
  },
  {
   "cell_type": "code",
   "execution_count": 9,
   "id": "0d901efb-d00b-4cf4-8902-6c90424292b3",
   "metadata": {
    "tags": []
   },
   "outputs": [
    {
     "name": "stdout",
     "output_type": "stream",
     "text": [
      "a\n",
      "c\n",
      "r\n"
     ]
    }
   ],
   "source": [
    "for a in \"acr\":\n",
    "    print(a)"
   ]
  },
  {
   "cell_type": "code",
   "execution_count": 2,
   "id": "8c31171e-4fc0-4b96-8151-5e9cd47cdf57",
   "metadata": {},
   "outputs": [
    {
     "name": "stdout",
     "output_type": "stream",
     "text": [
      "The most frequent value is 3 with a count of 4\n"
     ]
    }
   ],
   "source": [
    "import numpy as np\n",
    "\n",
    "# Create a NumPy array (replace this with your actual data)\n",
    "data = np.array([1, 2, 2, 3, 3, 3, 3, 4, 4, 4, 4])\n",
    "\n",
    "# Find unique values and their counts\n",
    "unique_values, counts = np.unique(data, return_counts=True)\n",
    "\n",
    "# Find the index of the most frequent value\n",
    "most_frequent_index = np.argmax(counts)\n",
    "\n",
    "# Find the most frequent value\n",
    "most_frequent_value = unique_values[most_frequent_index]\n",
    "\n",
    "# Print the most frequent value and its count\n",
    "print(f\"The most frequent value is {most_frequent_value} with a count of {counts[most_frequent_index]}\")\n"
   ]
  },
  {
   "cell_type": "code",
   "execution_count": 3,
   "id": "70de9cae",
   "metadata": {},
   "outputs": [
    {
     "data": {
      "text/plain": [
       "2"
      ]
     },
     "execution_count": 3,
     "metadata": {},
     "output_type": "execute_result"
    }
   ],
   "source": [
    "most_frequent_index"
   ]
  },
  {
   "cell_type": "code",
   "execution_count": 4,
   "id": "baa12af5",
   "metadata": {},
   "outputs": [
    {
     "data": {
      "text/plain": [
       "2"
      ]
     },
     "execution_count": 4,
     "metadata": {},
     "output_type": "execute_result"
    }
   ],
   "source": [
    "np.argmax(counts)"
   ]
  },
  {
   "cell_type": "code",
   "execution_count": 5,
   "id": "7bfd1963",
   "metadata": {},
   "outputs": [
    {
     "data": {
      "text/plain": [
       "array([1, 2, 4, 4], dtype=int64)"
      ]
     },
     "execution_count": 5,
     "metadata": {},
     "output_type": "execute_result"
    }
   ],
   "source": [
    "counts"
   ]
  },
  {
   "cell_type": "code",
   "execution_count": null,
   "id": "bc0e928c",
   "metadata": {},
   "outputs": [],
   "source": [
    "theta = [0]*c\n",
    "a = 0.1\n",
    "for j in range(c):\n",
    "    gradient[j] = 0\n",
    "    for i in range(n):\n",
    "        gradient[j] = gradient[j] + gradient[i]\n",
    "    gradient[j] = gradient[j]/n\n",
    "    theta[j] \n",
    "        \n",
    "        \n",
    "    \n",
    "    "
   ]
  }
 ],
 "metadata": {
  "kernelspec": {
   "display_name": "Python 3 (ipykernel)",
   "language": "python",
   "name": "python3"
  },
  "language_info": {
   "codemirror_mode": {
    "name": "ipython",
    "version": 3
   },
   "file_extension": ".py",
   "mimetype": "text/x-python",
   "name": "python",
   "nbconvert_exporter": "python",
   "pygments_lexer": "ipython3",
   "version": "3.11.3"
  }
 },
 "nbformat": 4,
 "nbformat_minor": 5
}
