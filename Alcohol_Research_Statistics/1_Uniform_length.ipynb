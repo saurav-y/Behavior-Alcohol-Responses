{
 "cells": [
  {
   "cell_type": "code",
   "execution_count": 1,
   "id": "0b6edee4",
   "metadata": {
    "tags": []
   },
   "outputs": [],
   "source": [
    "import pandas as pd\n",
    "import os\n",
    "from tqdm import tqdm\n",
    "from multiprocessing import Pool\n",
    "import time\n",
    "\n",
    "pd.set_option('display.max_rows', None)\n",
    "pd.set_option('display.max_columns', None)\n",
    "pd.options.mode.chained_assignment = None\n",
    "\n",
    "\n",
    "input_file_directory = \"D:/Program Files/Documents/CMU/Alcohol_Research/input_data_v2\"\n",
    "uniform_length_directory = \"D:/Program Files/Documents/CMU/Alcohol_Research/uniform_length_data\"\n",
    "column_subset_directory = \"D:/Program Files/Documents/CMU/Alcohol_Research/column_trim_data\"\n",
    "base_column_trim_directory = \"D:/Program Files/Documents/CMU/Alcohol_Research/base_columns_data\""
   ]
  },
  {
   "cell_type": "markdown",
   "id": "57ea7895-61f8-451e-bfc8-0540cb64be8f",
   "metadata": {},
   "source": [
    "## Change all files to uniform length "
   ]
  },
  {
   "cell_type": "code",
   "execution_count": 2,
   "id": "4a65c2e9",
   "metadata": {
    "scrolled": true
   },
   "outputs": [
    {
     "name": "stderr",
     "output_type": "stream",
     "text": [
      "  0%|          | 0/1 [00:00<?, ?it/s]C:\\Users\\Saurav\\AppData\\Local\\Temp\\ipykernel_3796\\3034911943.py:9: DtypeWarning: Columns (1,46,99,151) have mixed types. Specify dtype option on import or set low_memory=False.\n",
      "  df = pd.read_csv(file_path)\n",
      "  0%|          | 0/1 [00:14<?, ?it/s]\n"
     ]
    },
    {
     "data": {
      "text/html": [
       "<div>\n",
       "<style scoped>\n",
       "    .dataframe tbody tr th:only-of-type {\n",
       "        vertical-align: middle;\n",
       "    }\n",
       "\n",
       "    .dataframe tbody tr th {\n",
       "        vertical-align: top;\n",
       "    }\n",
       "\n",
       "    .dataframe thead th {\n",
       "        text-align: right;\n",
       "    }\n",
       "</style>\n",
       "<table border=\"1\" class=\"dataframe\">\n",
       "  <thead>\n",
       "    <tr style=\"text-align: right;\">\n",
       "      <th></th>\n",
       "      <th>Filename</th>\n",
       "      <th>Original Length</th>\n",
       "      <th>Final Length</th>\n",
       "    </tr>\n",
       "  </thead>\n",
       "  <tbody>\n",
       "    <tr>\n",
       "      <th>0</th>\n",
       "      <td>116_A2681_B2699_C2707.csv</td>\n",
       "      <td>193761</td>\n",
       "      <td>188811</td>\n",
       "    </tr>\n",
       "  </tbody>\n",
       "</table>\n",
       "</div>"
      ],
      "text/plain": [
       "                    Filename  Original Length  Final Length\n",
       "0  116_A2681_B2699_C2707.csv           193761        188811"
      ]
     },
     "metadata": {},
     "output_type": "display_data"
    }
   ],
   "source": [
    "length_data = []\n",
    "\n",
    "def uniform_length():\n",
    "    for filename in tqdm(os.listdir(input_file_directory)):\n",
    "        if '.csv' not in filename:\n",
    "            continue\n",
    "            \n",
    "        file_path = input_file_directory +'/'+ filename\n",
    "        df = pd.read_csv(file_path)\n",
    "        \n",
    "#         df = df[1:]\n",
    "#         df['Group_ID'] = '116'\n",
    "        \n",
    "        length_info_dict = {'Filename' : filename, 'Original Length':len(df)}\n",
    "        df = df[:188811]\n",
    "        length_info_dict['Final Length'] = len(df)\n",
    "        length_data.append(length_info_dict)\n",
    "        if len(df)<188811:\n",
    "            print(f'Skipping file (length issue): {filename}')\n",
    "            continue\n",
    "        \n",
    "        df.to_csv(f'{uniform_length_directory}/{filename}',index=False)\n",
    "        \n",
    "        break\n",
    "\n",
    "uniform_length()\n",
    "length_data_df = pd.DataFrame(length_data).sort_values(by=['Original Length']).reset_index(drop=True)\n",
    "display(length_data_df.head())"
   ]
  },
  {
   "cell_type": "markdown",
   "id": "5533c317-4258-4060-aca4-ac1d12c54766",
   "metadata": {
    "tags": []
   },
   "source": [
    "## Fix Group 88"
   ]
  },
  {
   "cell_type": "code",
   "execution_count": 17,
   "id": "d14dbf5b-3c1e-4a53-8e52-1cebd41ddff7",
   "metadata": {
    "tags": []
   },
   "outputs": [
    {
     "name": "stderr",
     "output_type": "stream",
     "text": [
      "C:\\Users\\Saurav\\AppData\\Local\\Temp\\ipykernel_2676\\1266875975.py:1: DtypeWarning: Columns (9,10,11,12,13,47,62,63,64,65,66,100) have mixed types. Specify dtype option on import or set low_memory=False.\n",
      "  g88_df = pd.read_csv(f'{uniform_length_directory}/88_A2574_B2567_C2541.csv')\n"
     ]
    }
   ],
   "source": [
    "# g88_df = pd.read_csv(f'{uniform_length_directory}/88_A2574_B2567_C2541.csv')\n",
    "# g88_df.Silence = g88_df.Silence.replace(' ',1)\n",
    "# g88_df = g88_df.replace(' ',0)\n",
    "\n",
    "# g88_df.to_csv(f'{uniform_length_directory}/88_A2574_B2567_C2541.csv')"
   ]
  },
  {
   "cell_type": "markdown",
   "id": "ef425da0",
   "metadata": {},
   "source": [
    "## Trim columns to given column"
   ]
  },
  {
   "cell_type": "code",
   "execution_count": 2,
   "id": "916c5ea4",
   "metadata": {
    "tags": []
   },
   "outputs": [
    {
     "name": "stderr",
     "output_type": "stream",
     "text": [
      "100%|██████████| 129/129 [00:13<00:00,  9.92it/s]\n"
     ]
    }
   ],
   "source": [
    "for filename in tqdm(os.listdir(uniform_length_directory)):\n",
    "    if '.csv' not in filename:\n",
    "        continue\n",
    "\n",
    "    file_path = uniform_length_directory +'/'+ filename\n",
    "    df = pd.read_csv(file_path)\n",
    "\n",
    "    df = df[['Group_ID','Frame','minute','Sub_ID','AU6','AU9','AU12','AU14','AU15','AU20','Speak','Sip','Laugh','DuchSmile_bin','GoldenMoment','SmileCon1_bin','SmileCon2_bin','SmileCon3_bin','SmileCon_bin_any','NegAff_bin_any','TriadSpeaking','DyadSpeaking','Silence','TriadLaughing','DyadLaughing','AU6_30','AU9_30','AU12_30','AU14_30','AU15_30','AU20_30','Speak_30','Sip_30','Laugh_30','DuchSmile_bin_30','GoldenMoment_30','SmileCon1_bin_30','SmileCon2_bin_30','SmileCon3_bin_30','SmileCon_bin_any_30','NegAff_bin_any_30','TriadSpeaking_30','DyadSpeaking_30','Silence_30','TriadLaughing_30','DyadLaughing_30','AU6_m','AU9_m','AU12_m','AU14_m','AU15_m','AU20_m','Speak_m','Sip_m','Laugh_m','DuchSmile_bin_m','GoldenMoment_m','SmileCon1_bin_m','SmileCon2_bin_m','SmileCon3_bin_m','SmileCon_bin_any_m','NegAff_bin_any_m','TriadSpeaking_m','DyadSpeaking_m','Silence_m','NumberSilent_m','TriadLaughing_m','DyadLaughing_m']]\n",
    "    df.to_csv(f'{column_subset_directory}/{filename}',index=False)\n",
    "    "
   ]
  },
  {
   "cell_type": "markdown",
   "id": "1b90f648",
   "metadata": {},
   "source": [
    "## Trim columns: Remove all synthetic columns"
   ]
  },
  {
   "cell_type": "code",
   "execution_count": 3,
   "id": "ac7b32a4",
   "metadata": {
    "tags": []
   },
   "outputs": [
    {
     "name": "stderr",
     "output_type": "stream",
     "text": [
      "100%|██████████| 129/129 [00:03<00:00, 36.70it/s]\n"
     ]
    }
   ],
   "source": [
    "for filename in tqdm(os.listdir(uniform_length_directory)):\n",
    "    if '.csv' not in filename:\n",
    "        continue\n",
    "\n",
    "    file_path = uniform_length_directory +'/'+ filename\n",
    "    df = pd.read_csv(file_path)\n",
    "\n",
    "    df = df[['Group_ID','Frame','minute','Sub_ID','AU6','AU9','AU12','AU14','AU15','AU20','Speak','Sip','Laugh','DuchSmile_bin','GoldenMoment','SmileCon1_bin','SmileCon2_bin','SmileCon3_bin','SmileCon_bin_any','NegAff_bin_any','TriadSpeaking','DyadSpeaking','Silence','TriadLaughing','DyadLaughing']]\n",
    "    df.to_csv(f'{base_column_trim_directory}/{filename}',index=False)\n",
    "    "
   ]
  },
  {
   "cell_type": "code",
   "execution_count": null,
   "id": "fed90447-30c1-4331-a82e-efacaa4f70b3",
   "metadata": {},
   "outputs": [],
   "source": []
  }
 ],
 "metadata": {
  "kernelspec": {
   "display_name": "Python 3 (ipykernel)",
   "language": "python",
   "name": "python3"
  },
  "language_info": {
   "codemirror_mode": {
    "name": "ipython",
    "version": 3
   },
   "file_extension": ".py",
   "mimetype": "text/x-python",
   "name": "python",
   "nbconvert_exporter": "python",
   "pygments_lexer": "ipython3",
   "version": "3.11.3"
  }
 },
 "nbformat": 4,
 "nbformat_minor": 5
}
